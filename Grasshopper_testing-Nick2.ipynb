{
  "nbformat": 4,
  "nbformat_minor": 0,
  "metadata": {
    "colab": {
      "provenance": [],
      "collapsed_sections": [
        "KS2KaXUa6ULz"
      ],
      "include_colab_link": true
    },
    "kernelspec": {
      "name": "python3",
      "display_name": "Python 3"
    },
    "language_info": {
      "name": "python"
    }
  },
  "cells": [
    {
      "cell_type": "markdown",
      "metadata": {
        "id": "view-in-github",
        "colab_type": "text"
      },
      "source": [
        "<a href=\"https://colab.research.google.com/github/NicolasFranklin-MM/GHPT-colab-experiments-NickMM/blob/main/Grasshopper_testing-Nick2.ipynb\" target=\"_parent\"><img src=\"https://colab.research.google.com/assets/colab-badge.svg\" alt=\"Open In Colab\"/></a>"
      ]
    },
    {
      "cell_type": "markdown",
      "source": [
        "## Install\n",
        "install openai and setup API key\n",
        "API key must be saved in Colab sectrets as OPENAI_API_KEY"
      ],
      "metadata": {
        "id": "KS2KaXUa6ULz"
      }
    },
    {
      "cell_type": "code",
      "execution_count": 179,
      "metadata": {
        "id": "jy5pEkKl0OyR",
        "colab": {
          "base_uri": "https://localhost:8080/"
        },
        "outputId": "c7adbf9a-c8f4-4c6b-b518-9f2f6efebb47"
      },
      "outputs": [
        {
          "output_type": "stream",
          "name": "stdout",
          "text": [
            "Requirement already satisfied: openai in /usr/local/lib/python3.10/dist-packages (1.25.2)\n",
            "Requirement already satisfied: anyio<5,>=3.5.0 in /usr/local/lib/python3.10/dist-packages (from openai) (3.7.1)\n",
            "Requirement already satisfied: distro<2,>=1.7.0 in /usr/lib/python3/dist-packages (from openai) (1.7.0)\n",
            "Requirement already satisfied: httpx<1,>=0.23.0 in /usr/local/lib/python3.10/dist-packages (from openai) (0.27.0)\n",
            "Requirement already satisfied: pydantic<3,>=1.9.0 in /usr/local/lib/python3.10/dist-packages (from openai) (2.7.1)\n",
            "Requirement already satisfied: sniffio in /usr/local/lib/python3.10/dist-packages (from openai) (1.3.1)\n",
            "Requirement already satisfied: tqdm>4 in /usr/local/lib/python3.10/dist-packages (from openai) (4.66.2)\n",
            "Requirement already satisfied: typing-extensions<5,>=4.7 in /usr/local/lib/python3.10/dist-packages (from openai) (4.11.0)\n",
            "Requirement already satisfied: idna>=2.8 in /usr/local/lib/python3.10/dist-packages (from anyio<5,>=3.5.0->openai) (3.7)\n",
            "Requirement already satisfied: exceptiongroup in /usr/local/lib/python3.10/dist-packages (from anyio<5,>=3.5.0->openai) (1.2.1)\n",
            "Requirement already satisfied: certifi in /usr/local/lib/python3.10/dist-packages (from httpx<1,>=0.23.0->openai) (2024.2.2)\n",
            "Requirement already satisfied: httpcore==1.* in /usr/local/lib/python3.10/dist-packages (from httpx<1,>=0.23.0->openai) (1.0.5)\n",
            "Requirement already satisfied: h11<0.15,>=0.13 in /usr/local/lib/python3.10/dist-packages (from httpcore==1.*->httpx<1,>=0.23.0->openai) (0.14.0)\n",
            "Requirement already satisfied: annotated-types>=0.4.0 in /usr/local/lib/python3.10/dist-packages (from pydantic<3,>=1.9.0->openai) (0.6.0)\n",
            "Requirement already satisfied: pydantic-core==2.18.2 in /usr/local/lib/python3.10/dist-packages (from pydantic<3,>=1.9.0->openai) (2.18.2)\n"
          ]
        }
      ],
      "source": [
        "!pip install openai"
      ]
    },
    {
      "cell_type": "code",
      "source": [
        "!pip install -U langsmith"
      ],
      "metadata": {
        "id": "xS8YUHkHAiST",
        "colab": {
          "base_uri": "https://localhost:8080/"
        },
        "outputId": "749f7edb-f281-4316-9a17-6f2bd455fbeb"
      },
      "execution_count": 180,
      "outputs": [
        {
          "output_type": "stream",
          "name": "stdout",
          "text": [
            "Requirement already satisfied: langsmith in /usr/local/lib/python3.10/dist-packages (0.1.54)\n",
            "Requirement already satisfied: orjson<4.0.0,>=3.9.14 in /usr/local/lib/python3.10/dist-packages (from langsmith) (3.10.3)\n",
            "Requirement already satisfied: pydantic<3,>=1 in /usr/local/lib/python3.10/dist-packages (from langsmith) (2.7.1)\n",
            "Requirement already satisfied: requests<3,>=2 in /usr/local/lib/python3.10/dist-packages (from langsmith) (2.31.0)\n",
            "Requirement already satisfied: annotated-types>=0.4.0 in /usr/local/lib/python3.10/dist-packages (from pydantic<3,>=1->langsmith) (0.6.0)\n",
            "Requirement already satisfied: pydantic-core==2.18.2 in /usr/local/lib/python3.10/dist-packages (from pydantic<3,>=1->langsmith) (2.18.2)\n",
            "Requirement already satisfied: typing-extensions>=4.6.1 in /usr/local/lib/python3.10/dist-packages (from pydantic<3,>=1->langsmith) (4.11.0)\n",
            "Requirement already satisfied: charset-normalizer<4,>=2 in /usr/local/lib/python3.10/dist-packages (from requests<3,>=2->langsmith) (3.3.2)\n",
            "Requirement already satisfied: idna<4,>=2.5 in /usr/local/lib/python3.10/dist-packages (from requests<3,>=2->langsmith) (3.7)\n",
            "Requirement already satisfied: urllib3<3,>=1.21.1 in /usr/local/lib/python3.10/dist-packages (from requests<3,>=2->langsmith) (2.0.7)\n",
            "Requirement already satisfied: certifi>=2017.4.17 in /usr/local/lib/python3.10/dist-packages (from requests<3,>=2->langsmith) (2024.2.2)\n"
          ]
        }
      ]
    },
    {
      "cell_type": "code",
      "source": [
        "import os\n",
        "from google.colab import userdata\n",
        "os.environ[\"LANGCHAIN_TRACING_V2\"] = \"true\"\n",
        "os.environ[\"LANGCHAIN_PROJECT\"] = f\"GHPT_Baseline\"\n",
        "os.environ[\"LANGCHAIN_ENDPOINT\"] = \"https://api.smith.langchain.com\"\n",
        "os.environ[\"LANGCHAIN_API_KEY\"] = userdata.get(\"LANGCHAIN_API_KEY\")"
      ],
      "metadata": {
        "id": "lxfxdnHfDDWb"
      },
      "execution_count": 181,
      "outputs": []
    },
    {
      "cell_type": "code",
      "source": [
        "from openai import OpenAI\n",
        "from langsmith.wrappers import wrap_openai\n",
        "from langsmith import traceable"
      ],
      "metadata": {
        "id": "VB0Dx-k73Vt-"
      },
      "execution_count": 182,
      "outputs": []
    },
    {
      "cell_type": "code",
      "source": [
        "OPENAI_API_KEY=userdata.get(\"OPENAI_API_KEY\")\n",
        "# OPENAI_API_KEY"
      ],
      "metadata": {
        "id": "LwtoXcFh6Oix"
      },
      "execution_count": 183,
      "outputs": []
    },
    {
      "cell_type": "markdown",
      "source": [
        "# OpenAI"
      ],
      "metadata": {
        "id": "lCORn5u76b3n"
      }
    },
    {
      "cell_type": "code",
      "source": [
        "#client = OpenAI(api_key=OPENAI_API_KEY)\n",
        "client = wrap_openai(OpenAI(api_key=OPENAI_API_KEY))\n",
        "model=\"gpt-3.5-turbo-1106\"\n",
        "temperature=0"
      ],
      "metadata": {
        "id": "_KuOYMzj61v3"
      },
      "execution_count": 184,
      "outputs": []
    },
    {
      "cell_type": "code",
      "source": [
        "# create the openai api call function\n",
        "def call_openai(prompt: str, system_prompt: str = \"\", model: str = \"gpt-3.5-turbo-1106\", temperature: float = 0):\n",
        "    completion = client.chat.completions.create(\n",
        "        model=model,\n",
        "        temperature=temperature,\n",
        "        messages=[\n",
        "            {\"role\": \"system\", \"content\": system_prompt},\n",
        "            {\"role\": \"user\", \"content\": prompt}\n",
        "        ],\n",
        "    )\n",
        "\n",
        "    return completion"
      ],
      "metadata": {
        "id": "EiYlQ5mIzBf3"
      },
      "execution_count": 185,
      "outputs": []
    },
    {
      "cell_type": "code",
      "source": [
        "model: str = \"gpt-3.5-turbo-1106\"\n",
        "# model: str = \"gpt-3.5-turbo-instruct\"\n",
        "temperature: float = 0\n",
        "\n",
        "prompt=\"say this is a test\"\n",
        "system_prompt=\"\"\n",
        "\n",
        "#completion = call_openai(prompt=prompt, system_prompt=system_prompt, model=model, temperature=temperature)\n",
        "#result = completion.choices[0].message.content\n",
        "#print(result)"
      ],
      "metadata": {
        "id": "B8HXy6lMA4dq"
      },
      "execution_count": 186,
      "outputs": []
    },
    {
      "cell_type": "markdown",
      "source": [
        "# GHPT"
      ],
      "metadata": {
        "id": "47XPmW1mPiTw"
      }
    },
    {
      "cell_type": "markdown",
      "source": [
        "## prompt template"
      ],
      "metadata": {
        "id": "Cb2mp36c73Yi"
      }
    },
    {
      "cell_type": "code",
      "source": [
        "system_prompt = \"\"\"\n",
        "You are a Grasshopper Expert and are going to help create Grasshopper Definitions.\n",
        "Keep the answers short and concise.\n",
        "Make sure you create and connect a component for every non-optional input\n",
        "If you're not sure about the answer, but think there's additional information that could help you, please ask for that information.\n",
        "\n",
        "Always use the given format, avoid any devitation.\n",
        "\"\"\""
      ],
      "metadata": {
        "id": "1cX7itePzi0h"
      },
      "execution_count": 187,
      "outputs": []
    },
    {
      "cell_type": "code",
      "source": [
        "prompt_template = r\"\"\"\n",
        "// Question : How do I add two numbers inside of Grasshopper?\n",
        "// Reasoning: To add two numbers we need to Add. There is an Addition component that performs this function. We need to create two numbers the user can edit, we can use the Number Slider for both numbers. And then we can Connections all of the components together\n",
        "// JSON:\n",
        "{\n",
        "\t\"Advice\": \"Make sure to set the number sliders to the correct value\",\n",
        "\t\"Additions\": [\n",
        "\t\t{\n",
        "\t\t\t\"Name\": \"Number Slider\",\n",
        "\t\t\t\"Id\": 1, // This number must be unique\n",
        "\t\t\t\"value\": \"0..25..100\" // This is optional\n",
        "\t\t},\n",
        "\t\t{\n",
        "\t\t\t\"Name\": \"Number Slider\",\n",
        "\t\t\t\"Id\": 2,\n",
        "\t\t\t\"value\": \"-50..25..100\" // This is optional\n",
        "\t\t},\n",
        "\t\t{\n",
        "\t\t\t\"Name\": \"Addition\",\n",
        "\t\t\t\"Id\": 3\n",
        "\t\t}\n",
        "\t],\n",
        "\t\"Connections\": [\n",
        "\t\t{\n",
        "\t\t\t\"To\": { // Addition\n",
        "\t\t\t\t\"Id\": 3,\n",
        "\t\t\t\t\"ParameterName\": \"A\"\n",
        "\t\t\t},\n",
        "\t\t\t\"From\": { // Number Slider,\n",
        "\t\t\t\t\"Id\": 1,\n",
        "\t\t\t\t\"ParameterName\": \"number\"\n",
        "\t\t\t}\n",
        "\t\t},\n",
        "\t\t{\n",
        "\t\t\t\"To\": { // Addition\n",
        "\t\t\t\t\"Id\": 3,\n",
        "\t\t\t\t\"ParameterName\": \"B\"\n",
        "\t\t\t},\n",
        "\t\t\t\"From\": { // Number Slider,\n",
        "\t\t\t\t\"Id\": 2,\n",
        "\t\t\t\t\"ParameterName\": \"number\"\n",
        "\t\t\t}\n",
        "\t\t}\n",
        "\t]\n",
        "}\n",
        "\n",
        "// Question: How do I create a cup shape in grasshopper\n",
        "// Reasoning: To create a cup shape in Grasshopper, we\"ll first create a circle using a \"Circle CNR\" component, which will act as the base of the cup. Then, we will use a \"Move\" component to move the base circle vertically to create the upper rim of the cup. To create the body of the cup, we\"ll loft these two circles using a \"Loft\" component.\n",
        "// JSON:\n",
        "{\n",
        "\t\"Advice\": \"Remember, to properly define the cup\\\"s dimensions using the number slider\",\n",
        "\t\"Additions\": [\n",
        "\t\t{\n",
        "\t\t\t\"Name\": \"Circle CNR\",\n",
        "\t\t\t\"Id\": 1\n",
        "\t\t},\n",
        "\t\t{\n",
        "\t\t\t\"Name\": \"Move\",\n",
        "\t\t\t\"Id\": 2\n",
        "\t\t},\n",
        "\t\t{\n",
        "\t\t\t\"Name\": \"Loft\",\n",
        "\t\t\t\"Id\": 3\n",
        "\t\t}\n",
        "\t],\n",
        "\t\"Connections\": [\n",
        "\t\t{\n",
        "\t\t\t\"To\": {\n",
        "\t\t\t\t\"Id\": 2,\n",
        "\t\t\t\t\"ParameterName\": \"Geometry\"\n",
        "\t\t\t},\n",
        "\t\t\t\"From\": {\n",
        "\t\t\t\t\"Id\": 1,\n",
        "\t\t\t\t\"ParameterName\": \"Circle\"\n",
        "\t\t\t}\n",
        "\t\t},\n",
        "\t\t{\n",
        "\t\t\t\"To\": {\n",
        "\t\t\t\t\"Id\": 3,\n",
        "\t\t\t\t\"ParameterName\": \"Curves\"\n",
        "\t\t\t},\n",
        "\t\t\t\"From\": {\n",
        "\t\t\t\t\"Id\": 1,\n",
        "\t\t\t\t\"ParameterName\": \"Circle\"\n",
        "\t\t\t}\n",
        "\t\t},\n",
        "\t\t{\n",
        "\t\t\t\"To\": {\n",
        "\t\t\t\t\"Id\": 3,\n",
        "\t\t\t\t\"ParameterName\": \"Curves\"\n",
        "\t\t\t},\n",
        "\t\t\t\"From\": {\n",
        "\t\t\t\t\"Id\": 2,\n",
        "\t\t\t\t\"ParameterName\": \"Geometry\"\n",
        "\t\t\t}\n",
        "\t\t}\n",
        "\t]\n",
        "}\n",
        "```\n",
        "\n",
        "// Question: How do I create a twisty skyscraper?\n",
        "// Reasoning: We can create the \"twist\" using the twist component, so lets extrude a rectangle and twist it!\n",
        "// JSON:\n",
        "{\n",
        "\t\"Advice\": \"Make sure to use reasonable inputs or the skyscraper will look weird\",\n",
        "\t\"Additions\": [\n",
        "\t\t{\n",
        "\t\t\t\"Name\": \"Rectangle\",\n",
        "\t\t\t\"Id\": 1\n",
        "\t\t},\n",
        "\t\t{\n",
        "\t\t\t\"Name\": \"Number Slider\",\n",
        "\t\t\t\"Id\": 2,\n",
        "\t\t\t\"Value\": \"0..50..100\"\n",
        "\t\t},\n",
        "\t\t{\n",
        "\t\t\t\"Name\": \"Unit Z\",\n",
        "\t\t\t\"Id\": 3\n",
        "\t\t},\n",
        "\t\t{\n",
        "\t\t\t\"Name\": \"Extrusion\",\n",
        "\t\t\t\"Id\": 4\n",
        "\t\t},\n",
        "\t\t{\n",
        "\t\t\t\"Name\": \"Number Slider\",\n",
        "\t\t\t\"Id\": 5,\n",
        "\t\t\t\"Value\": \"0..90..360\"\n",
        "\t\t},\n",
        "\t\t{\n",
        "\t\t\t\"Name\": \"Line\",\n",
        "\t\t\t\"Id\": 6\n",
        "\t\t},\n",
        "\t\t{\n",
        "\t\t\t\"Name\": \"Point\"\n",
        "\t\t\t\"Id\": 7,\n",
        "\t\t\t\"value\": \"{0,0,0}\"\n",
        "\t\t},\n",
        "\t\t{\n",
        "\t\t\t\"Name\": \"Point\"\n",
        "\t\t\t\"Id\": 8,\n",
        "\t\t\t\"value\": \"{0,0,250}\"\n",
        "\t\t},\n",
        "\t\t{\n",
        "\t\t\t\"Name\": \"Twist\",\n",
        "\t\t\t\"Id\": 9\n",
        "\t\t},\n",
        "\t\t{\n",
        "\t\t\t\"Name\": \"Solid Union\",\n",
        "\t\t\t\"Id\": 10\n",
        "\t\t},\n",
        "\t\t{\n",
        "\t\t\t\"Name\": \"Brep Join\",\n",
        "\t\t\t\"Id\": 11\n",
        "\t\t}\n",
        "\t],\n",
        "\t\"Connections\": [\n",
        "\t\t{\n",
        "\t\t\t\"To\": {\n",
        "\t\t\t\t\"Id\": 4,\n",
        "\t\t\t\t\"ParameterName\": \"Base\"\n",
        "\t\t\t},\n",
        "\t\t\t\"From\": {\n",
        "\t\t\t\t\"Id\": 1,\n",
        "\t\t\t\t\"ParameterName\": \"Rectangle\"\n",
        "\t\t\t}\n",
        "\t\t},\n",
        "\t\t{\n",
        "\t\t\t\"To\": {\n",
        "\t\t\t\t\"Id\": 3,\n",
        "\t\t\t\t\"ParameterName\": \"Factor\"\n",
        "\t\t\t},\n",
        "\t\t\t\"From\": {\n",
        "\t\t\t\t\"Id\": 2,\n",
        "\t\t\t\t\"ParameterName\": \"Number\"\n",
        "\t\t\t}\n",
        "\t\t},\n",
        "\t\t{\n",
        "\t\t\t\"To\": {\n",
        "\t\t\t\t\"Id\": 9,\n",
        "\t\t\t\t\"ParameterName\": \"Angle\"\n",
        "\t\t\t},\n",
        "\t\t\t\"From\": {\n",
        "\t\t\t\t\"Id\": 5,\n",
        "\t\t\t\t\"ParameterName\": \"Number\"\n",
        "\t\t\t}\n",
        "\t\t},\n",
        "\t\t{\n",
        "\t\t\t\"To\": {\n",
        "\t\t\t\t\"Id\": 4,\n",
        "\t\t\t\t\"ParameterName\": \"Direction\"\n",
        "\t\t\t},\n",
        "\t\t\t\"From\": {\n",
        "\t\t\t\t\"Id\": 3,\n",
        "\t\t\t\t\"ParameterName\": \"Unit vector\"\n",
        "\t\t\t}\n",
        "\t\t},\n",
        "\t\t{\n",
        "\t\t\t\"To\": {\n",
        "\t\t\t\t\"Id\": 9,\n",
        "\t\t\t\t\"ParameterName\": \"Geometry\"\n",
        "\t\t\t},\n",
        "\t\t\t\"From\": {\n",
        "\t\t\t\t\"Id\": 4,\n",
        "\t\t\t\t\"ParameterName\": \"Extrusion\"\n",
        "\t\t\t}\n",
        "\t\t},\n",
        "\t\t{\n",
        "\t\t\t\"To\": {\n",
        "\t\t\t\t\"Id\": 6,\n",
        "\t\t\t\t\"ParameterName\": \"Start Point\"\n",
        "\t\t\t},\n",
        "\t\t\t\"From\": {\n",
        "\t\t\t\t\"Id\": 7,\n",
        "\t\t\t\t\"ParameterName\": \"Point\"\n",
        "\t\t\t}\n",
        "\t\t},\n",
        "\t\t{\n",
        "\t\t\t\"To\": {\n",
        "\t\t\t\t\"Id\": 6,\n",
        "\t\t\t\t\"ParameterName\": \"End Point\"\n",
        "\t\t\t},\n",
        "\t\t\t\"From\": {\n",
        "\t\t\t\t\"Id\": 8,\n",
        "\t\t\t\t\"ParameterName\": \"Point\"\n",
        "\t\t\t}\n",
        "\t\t},\n",
        "\t\t{\n",
        "\t\t\t\"To\": {\n",
        "\t\t\t\t\"Id\": 10,\n",
        "\t\t\t\t\"ParameterName\": \"Breps\"\n",
        "\t\t\t},\n",
        "\t\t\t\"From\": {\n",
        "\t\t\t\t\"Id\": 9,\n",
        "\t\t\t\t\"ParameterName\": \"Geometry\"\n",
        "\t\t\t}\n",
        "\t\t},\n",
        "\t\t{\n",
        "\t\t\t\"To\": {\n",
        "\t\t\t\t\"Id\": 11,\n",
        "\t\t\t\t\"ParameterName\": \"Breps\"\n",
        "\t\t\t},\n",
        "\t\t\t\"From\": {\n",
        "\t\t\t\t\"Id\": 10,\n",
        "\t\t\t\t\"ParameterName\": \"Result\"\n",
        "\t\t\t}\n",
        "\t\t},\n",
        "\t\t{\n",
        "      \"To\": {\n",
        "          \"Id\": 9,\n",
        "          \"ParameterName\": \"Axis\"\n",
        "        },\n",
        "      \"From\": {\n",
        "          \"Id\": 6,\n",
        "          \"ParameterName\": \"Line\"\n",
        "      }\n",
        "\t\t}\n",
        "\t]\n",
        "}\n",
        "\n",
        "// Question: {QUESTION}\n",
        "// Reasoning:\n",
        "\"\"\""
      ],
      "metadata": {
        "id": "gKpcZiiP5rMX"
      },
      "execution_count": 188,
      "outputs": []
    },
    {
      "cell_type": "code",
      "source": [
        "prompt_template = prompt_template.replace(\"{\",\"{{\").replace(\"}\",\"}}\").replace(\"{{QUESTION}}\",\"{QUESTION}\")"
      ],
      "metadata": {
        "id": "QGjrfD7PA9PJ"
      },
      "execution_count": 189,
      "outputs": []
    },
    {
      "cell_type": "code",
      "source": [
        "prompt_template_error = \"\"\"The above json returned the error: {ERROR}\n",
        "re-evaluating the initial task and correcting for the json error the correct json should be\n",
        "\n",
        "// JSON:\n",
        "\"\"\""
      ],
      "metadata": {
        "id": "n2Vj_g4kC6da"
      },
      "execution_count": 190,
      "outputs": []
    },
    {
      "cell_type": "code",
      "source": [
        "prompt_template.format(QUESTION=\"Create a cylinder with a radius of 5 and a height of 10\")"
      ],
      "metadata": {
        "colab": {
          "base_uri": "https://localhost:8080/",
          "height": 88
        },
        "id": "BlPOMmXUyQh7",
        "outputId": "1b0d5ad3-09fc-4263-f3e0-a34d71a83340"
      },
      "execution_count": 191,
      "outputs": [
        {
          "output_type": "execute_result",
          "data": {
            "text/plain": [
              "'\\n// Question : How do I add two numbers inside of Grasshopper?\\n// Reasoning: To add two numbers we need to Add. There is an Addition component that performs this function. We need to create two numbers the user can edit, we can use the Number Slider for both numbers. And then we can Connections all of the components together\\n// JSON:\\n{\\n\\t\"Advice\": \"Make sure to set the number sliders to the correct value\",\\n\\t\"Additions\": [\\n\\t\\t{\\n\\t\\t\\t\"Name\": \"Number Slider\",\\n\\t\\t\\t\"Id\": 1, // This number must be unique\\n\\t\\t\\t\"value\": \"0..25..100\" // This is optional\\n\\t\\t},\\n\\t\\t{\\n\\t\\t\\t\"Name\": \"Number Slider\",\\n\\t\\t\\t\"Id\": 2,\\n\\t\\t\\t\"value\": \"-50..25..100\" // This is optional\\n\\t\\t},\\n\\t\\t{\\n\\t\\t\\t\"Name\": \"Addition\",\\n\\t\\t\\t\"Id\": 3\\n\\t\\t}\\n\\t],\\n\\t\"Connections\": [\\n\\t\\t{\\n\\t\\t\\t\"To\": { // Addition\\n\\t\\t\\t\\t\"Id\": 3,\\n\\t\\t\\t\\t\"ParameterName\": \"A\"\\n\\t\\t\\t},\\n\\t\\t\\t\"From\": { // Number Slider,\\n\\t\\t\\t\\t\"Id\": 1,\\n\\t\\t\\t\\t\"ParameterName\": \"number\"\\n\\t\\t\\t}\\n\\t\\t},\\n\\t\\t{\\n\\t\\t\\t\"To\": { // Addition\\n\\t\\t\\t\\t\"Id\": 3,\\n\\t\\t\\t\\t\"ParameterName\": \"B\"\\n\\t\\t\\t},\\n\\t\\t\\t\"From\": { // Number Slider,\\n\\t\\t\\t\\t\"Id\": 2,\\n\\t\\t\\t\\t\"ParameterName\": \"number\"\\n\\t\\t\\t}\\n\\t\\t}\\n\\t]\\n}\\n\\n// Question: How do I create a cup shape in grasshopper\\n// Reasoning: To create a cup shape in Grasshopper, we\"ll first create a circle using a \"Circle CNR\" component, which will act as the base of the cup. Then, we will use a \"Move\" component to move the base circle vertically to create the upper rim of the cup. To create the body of the cup, we\"ll loft these two circles using a \"Loft\" component.\\n// JSON:\\n{\\n\\t\"Advice\": \"Remember, to properly define the cup\\\\\"s dimensions using the number slider\",\\n\\t\"Additions\": [\\n\\t\\t{\\n\\t\\t\\t\"Name\": \"Circle CNR\",\\n\\t\\t\\t\"Id\": 1\\n\\t\\t},\\n\\t\\t{\\n\\t\\t\\t\"Name\": \"Move\",\\n\\t\\t\\t\"Id\": 2\\n\\t\\t},\\n\\t\\t{\\n\\t\\t\\t\"Name\": \"Loft\",\\n\\t\\t\\t\"Id\": 3\\n\\t\\t}\\n\\t],\\n\\t\"Connections\": [\\n\\t\\t{\\n\\t\\t\\t\"To\": {\\n\\t\\t\\t\\t\"Id\": 2,\\n\\t\\t\\t\\t\"ParameterName\": \"Geometry\"\\n\\t\\t\\t},\\n\\t\\t\\t\"From\": {\\n\\t\\t\\t\\t\"Id\": 1,\\n\\t\\t\\t\\t\"ParameterName\": \"Circle\"\\n\\t\\t\\t}\\n\\t\\t},\\n\\t\\t{\\n\\t\\t\\t\"To\": {\\n\\t\\t\\t\\t\"Id\": 3,\\n\\t\\t\\t\\t\"ParameterName\": \"Curves\"\\n\\t\\t\\t},\\n\\t\\t\\t\"From\": {\\n\\t\\t\\t\\t\"Id\": 1,\\n\\t\\t\\t\\t\"ParameterName\": \"Circle\"\\n\\t\\t\\t}\\n\\t\\t},\\n\\t\\t{\\n\\t\\t\\t\"To\": {\\n\\t\\t\\t\\t\"Id\": 3,\\n\\t\\t\\t\\t\"ParameterName\": \"Curves\"\\n\\t\\t\\t},\\n\\t\\t\\t\"From\": {\\n\\t\\t\\t\\t\"Id\": 2,\\n\\t\\t\\t\\t\"ParameterName\": \"Geometry\"\\n\\t\\t\\t}\\n\\t\\t}\\n\\t]\\n}\\n```\\n\\n// Question: How do I create a twisty skyscraper?\\n// Reasoning: We can create the \"twist\" using the twist component, so lets extrude a rectangle and twist it!\\n// JSON:\\n{\\n\\t\"Advice\": \"Make sure to use reasonable inputs or the skyscraper will look weird\",\\n\\t\"Additions\": [\\n\\t\\t{\\n\\t\\t\\t\"Name\": \"Rectangle\",\\n\\t\\t\\t\"Id\": 1\\n\\t\\t},\\n\\t\\t{\\n\\t\\t\\t\"Name\": \"Number Slider\",\\n\\t\\t\\t\"Id\": 2,\\n\\t\\t\\t\"Value\": \"0..50..100\"\\n\\t\\t},\\n\\t\\t{\\n\\t\\t\\t\"Name\": \"Unit Z\",\\n\\t\\t\\t\"Id\": 3\\n\\t\\t},\\n\\t\\t{\\n\\t\\t\\t\"Name\": \"Extrusion\",\\n\\t\\t\\t\"Id\": 4\\n\\t\\t},\\n\\t\\t{\\n\\t\\t\\t\"Name\": \"Number Slider\",\\n\\t\\t\\t\"Id\": 5,\\n\\t\\t\\t\"Value\": \"0..90..360\"\\n\\t\\t},\\n\\t\\t{\\n\\t\\t\\t\"Name\": \"Line\",\\n\\t\\t\\t\"Id\": 6\\n\\t\\t},\\n\\t\\t{\\n\\t\\t\\t\"Name\": \"Point\"\\n\\t\\t\\t\"Id\": 7,\\n\\t\\t\\t\"value\": \"{0,0,0}\"\\n\\t\\t},\\n\\t\\t{\\n\\t\\t\\t\"Name\": \"Point\"\\n\\t\\t\\t\"Id\": 8,\\n\\t\\t\\t\"value\": \"{0,0,250}\"\\n\\t\\t},\\n\\t\\t{\\n\\t\\t\\t\"Name\": \"Twist\",\\n\\t\\t\\t\"Id\": 9\\n\\t\\t},\\n\\t\\t{\\n\\t\\t\\t\"Name\": \"Solid Union\",\\n\\t\\t\\t\"Id\": 10\\n\\t\\t},\\n\\t\\t{\\n\\t\\t\\t\"Name\": \"Brep Join\",\\n\\t\\t\\t\"Id\": 11\\n\\t\\t}\\n\\t],\\n\\t\"Connections\": [\\n\\t\\t{\\n\\t\\t\\t\"To\": {\\n\\t\\t\\t\\t\"Id\": 4,\\n\\t\\t\\t\\t\"ParameterName\": \"Base\"\\n\\t\\t\\t},\\n\\t\\t\\t\"From\": {\\n\\t\\t\\t\\t\"Id\": 1,\\n\\t\\t\\t\\t\"ParameterName\": \"Rectangle\"\\n\\t\\t\\t}\\n\\t\\t},\\n\\t\\t{\\n\\t\\t\\t\"To\": {\\n\\t\\t\\t\\t\"Id\": 3,\\n\\t\\t\\t\\t\"ParameterName\": \"Factor\"\\n\\t\\t\\t},\\n\\t\\t\\t\"From\": {\\n\\t\\t\\t\\t\"Id\": 2,\\n\\t\\t\\t\\t\"ParameterName\": \"Number\"\\n\\t\\t\\t}\\n\\t\\t},\\n\\t\\t{\\n\\t\\t\\t\"To\": {\\n\\t\\t\\t\\t\"Id\": 9,\\n\\t\\t\\t\\t\"ParameterName\": \"Angle\"\\n\\t\\t\\t},\\n\\t\\t\\t\"From\": {\\n\\t\\t\\t\\t\"Id\": 5,\\n\\t\\t\\t\\t\"ParameterName\": \"Number\"\\n\\t\\t\\t}\\n\\t\\t},\\n\\t\\t{\\n\\t\\t\\t\"To\": {\\n\\t\\t\\t\\t\"Id\": 4,\\n\\t\\t\\t\\t\"ParameterName\": \"Direction\"\\n\\t\\t\\t},\\n\\t\\t\\t\"From\": {\\n\\t\\t\\t\\t\"Id\": 3,\\n\\t\\t\\t\\t\"ParameterName\": \"Unit vector\"\\n\\t\\t\\t}\\n\\t\\t},\\n\\t\\t{\\n\\t\\t\\t\"To\": {\\n\\t\\t\\t\\t\"Id\": 9,\\n\\t\\t\\t\\t\"ParameterName\": \"Geometry\"\\n\\t\\t\\t},\\n\\t\\t\\t\"From\": {\\n\\t\\t\\t\\t\"Id\": 4,\\n\\t\\t\\t\\t\"ParameterName\": \"Extrusion\"\\n\\t\\t\\t}\\n\\t\\t},\\n\\t\\t{\\n\\t\\t\\t\"To\": {\\n\\t\\t\\t\\t\"Id\": 6,\\n\\t\\t\\t\\t\"ParameterName\": \"Start Point\"\\n\\t\\t\\t},\\n\\t\\t\\t\"From\": {\\n\\t\\t\\t\\t\"Id\": 7,\\n\\t\\t\\t\\t\"ParameterName\": \"Point\"\\n\\t\\t\\t}\\n\\t\\t},\\n\\t\\t{\\n\\t\\t\\t\"To\": {\\n\\t\\t\\t\\t\"Id\": 6,\\n\\t\\t\\t\\t\"ParameterName\": \"End Point\"\\n\\t\\t\\t},\\n\\t\\t\\t\"From\": {\\n\\t\\t\\t\\t\"Id\": 8,\\n\\t\\t\\t\\t\"ParameterName\": \"Point\"\\n\\t\\t\\t}\\n\\t\\t},\\n\\t\\t{\\n\\t\\t\\t\"To\": {\\n\\t\\t\\t\\t\"Id\": 10,\\n\\t\\t\\t\\t\"ParameterName\": \"Breps\"\\n\\t\\t\\t},\\n\\t\\t\\t\"From\": {\\n\\t\\t\\t\\t\"Id\": 9,\\n\\t\\t\\t\\t\"ParameterName\": \"Geometry\"\\n\\t\\t\\t}\\n\\t\\t},\\n\\t\\t{\\n\\t\\t\\t\"To\": {\\n\\t\\t\\t\\t\"Id\": 11,\\n\\t\\t\\t\\t\"ParameterName\": \"Breps\"\\n\\t\\t\\t},\\n\\t\\t\\t\"From\": {\\n\\t\\t\\t\\t\"Id\": 10,\\n\\t\\t\\t\\t\"ParameterName\": \"Result\"\\n\\t\\t\\t}\\n\\t\\t},\\n\\t\\t{\\n      \"To\": {\\n          \"Id\": 9,\\n          \"ParameterName\": \"Axis\"\\n        },\\n      \"From\": {\\n          \"Id\": 6,\\n          \"ParameterName\": \"Line\"\\n      }\\n\\t\\t}\\n\\t]\\n}\\n\\n// Question: Create a cylinder with a radius of 5 and a height of 10\\n// Reasoning:\\n'"
            ],
            "application/vnd.google.colaboratory.intrinsic+json": {
              "type": "string"
            }
          },
          "metadata": {},
          "execution_count": 191
        }
      ]
    },
    {
      "cell_type": "markdown",
      "source": [
        "## Baseline Call"
      ],
      "metadata": {
        "id": "fBGAjqv1780t"
      }
    },
    {
      "cell_type": "code",
      "source": [
        "QUESTION = \"Create a cylinder with a radius of 5 and a height of 10 and make sure to also create number sliders and connect them to the cylinder component\""
      ],
      "metadata": {
        "id": "91TvZtTTnTQ8"
      },
      "execution_count": 192,
      "outputs": []
    },
    {
      "cell_type": "code",
      "source": [
        "# model: str = \"gpt-3.5-turbo-1106\"\n",
        "model: str = \"gpt-3.5-turbo\"\n",
        "temperature: float = 0\n",
        "\n",
        "#prompt=prompt_template.format(QUESTION=\"Create a cylinder with a radius of 5 and a height of 10\")\n",
        "prompt=prompt_template.format(QUESTION=QUESTION)\n",
        "system_prompt=\"\"\n",
        "\n",
        "completion = call_openai(prompt=prompt, system_prompt=system_prompt, model=model, temperature=temperature)\n",
        "result = completion.choices[0].message\n",
        "print(result.content)"
      ],
      "metadata": {
        "colab": {
          "base_uri": "https://localhost:8080/"
        },
        "id": "wht7UJWg0jca",
        "outputId": "fce1bff3-e936-45e8-dfb5-e0f15a033096"
      },
      "execution_count": 193,
      "outputs": [
        {
          "output_type": "stream",
          "name": "stdout",
          "text": [
            "To create a cylinder with a radius of 5 and a height of 10 in Grasshopper, we can use the following components: \"Circle CNR\" to create the base circle with a radius of 5, \"Extrusion\" to extrude the circle to a height of 10, and number sliders to control the radius and height values.\n",
            "\n",
            "Here is the JSON representation for creating a cylinder with the specified dimensions:\n",
            "\n",
            "```json\n",
            "{\n",
            "\t\"Advice\": \"Adjust the number sliders to set the desired radius and height values\",\n",
            "\t\"Additions\": [\n",
            "\t\t{\n",
            "\t\t\t\"Name\": \"Circle CNR\",\n",
            "\t\t\t\"Id\": 1,\n",
            "\t\t\t\"value\": \"5\" // Set the radius to 5\n",
            "\t\t},\n",
            "\t\t{\n",
            "\t\t\t\"Name\": \"Extrusion\",\n",
            "\t\t\t\"Id\": 2,\n",
            "\t\t\t\"value\": \"10\" // Set the height to 10\n",
            "\t\t},\n",
            "\t\t{\n",
            "\t\t\t\"Name\": \"Number Slider\",\n",
            "\t\t\t\"Id\": 3,\n",
            "\t\t\t\"value\": \"0..10..20\" // Slider for adjusting the radius\n",
            "\t\t},\n",
            "\t\t{\n",
            "\t\t\t\"Name\": \"Number Slider\",\n",
            "\t\t\t\"Id\": 4,\n",
            "\t\t\t\"value\": \"0..20..40\" // Slider for adjusting the height\n",
            "\t\t}\n",
            "\t],\n",
            "\t\"Connections\": [\n",
            "\t\t{\n",
            "\t\t\t\"To\": {\n",
            "\t\t\t\t\"Id\": 1,\n",
            "\t\t\t\t\"ParameterName\": \"Radius\"\n",
            "\t\t\t},\n",
            "\t\t\t\"From\": {\n",
            "\t\t\t\t\"Id\": 3,\n",
            "\t\t\t\t\"ParameterName\": \"Number\"\n",
            "\t\t\t}\n",
            "\t\t},\n",
            "\t\t{\n",
            "\t\t\t\"To\": {\n",
            "\t\t\t\t\"Id\": 2,\n",
            "\t\t\t\t\"ParameterName\": \"Height\"\n",
            "\t\t\t},\n",
            "\t\t\t\"From\": {\n",
            "\t\t\t\t\"Id\": 4,\n",
            "\t\t\t\t\"ParameterName\": \"Number\"\n",
            "\t\t\t}\n",
            "\t\t}\n",
            "\t]\n",
            "}\n",
            "```\n",
            "\n",
            "By using these components and connections with the specified values, you can create a cylinder with a radius of 5 and a height of 10 in Grasshopper.\n"
          ]
        }
      ]
    },
    {
      "cell_type": "markdown",
      "source": [
        "# Instructor"
      ],
      "metadata": {
        "id": "XnxRNbOBFhE7"
      }
    },
    {
      "cell_type": "code",
      "source": [
        "os.environ[\"LANGCHAIN_PROJECT\"] = f\"GHPT_Instructor\""
      ],
      "metadata": {
        "id": "i7oaNXS8nesr"
      },
      "execution_count": 194,
      "outputs": []
    },
    {
      "cell_type": "code",
      "source": [
        "!pip install instructor"
      ],
      "metadata": {
        "id": "NZrSSRF8O3sn",
        "outputId": "ad0ffcf8-e2c7-44c1-b1a6-1f3d420103e3",
        "colab": {
          "base_uri": "https://localhost:8080/"
        }
      },
      "execution_count": 195,
      "outputs": [
        {
          "output_type": "stream",
          "name": "stdout",
          "text": [
            "Requirement already satisfied: instructor in /usr/local/lib/python3.10/dist-packages (1.2.5)\n",
            "Requirement already satisfied: aiohttp<4.0.0,>=3.9.1 in /usr/local/lib/python3.10/dist-packages (from instructor) (3.9.5)\n",
            "Requirement already satisfied: docstring-parser<0.17,>=0.16 in /usr/local/lib/python3.10/dist-packages (from instructor) (0.16)\n",
            "Requirement already satisfied: openai<2.0.0,>=1.1.0 in /usr/local/lib/python3.10/dist-packages (from instructor) (1.25.2)\n",
            "Requirement already satisfied: pydantic<3.0.0,>=2.7.0 in /usr/local/lib/python3.10/dist-packages (from instructor) (2.7.1)\n",
            "Requirement already satisfied: pydantic-core<3.0.0,>=2.18.0 in /usr/local/lib/python3.10/dist-packages (from instructor) (2.18.2)\n",
            "Requirement already satisfied: rich<14.0.0,>=13.7.0 in /usr/local/lib/python3.10/dist-packages (from instructor) (13.7.1)\n",
            "Requirement already satisfied: tenacity<9.0.0,>=8.2.3 in /usr/local/lib/python3.10/dist-packages (from instructor) (8.2.3)\n",
            "Requirement already satisfied: typer<1.0.0,>=0.9.0 in /usr/local/lib/python3.10/dist-packages (from instructor) (0.9.4)\n",
            "Requirement already satisfied: aiosignal>=1.1.2 in /usr/local/lib/python3.10/dist-packages (from aiohttp<4.0.0,>=3.9.1->instructor) (1.3.1)\n",
            "Requirement already satisfied: attrs>=17.3.0 in /usr/local/lib/python3.10/dist-packages (from aiohttp<4.0.0,>=3.9.1->instructor) (23.2.0)\n",
            "Requirement already satisfied: frozenlist>=1.1.1 in /usr/local/lib/python3.10/dist-packages (from aiohttp<4.0.0,>=3.9.1->instructor) (1.4.1)\n",
            "Requirement already satisfied: multidict<7.0,>=4.5 in /usr/local/lib/python3.10/dist-packages (from aiohttp<4.0.0,>=3.9.1->instructor) (6.0.5)\n",
            "Requirement already satisfied: yarl<2.0,>=1.0 in /usr/local/lib/python3.10/dist-packages (from aiohttp<4.0.0,>=3.9.1->instructor) (1.9.4)\n",
            "Requirement already satisfied: async-timeout<5.0,>=4.0 in /usr/local/lib/python3.10/dist-packages (from aiohttp<4.0.0,>=3.9.1->instructor) (4.0.3)\n",
            "Requirement already satisfied: anyio<5,>=3.5.0 in /usr/local/lib/python3.10/dist-packages (from openai<2.0.0,>=1.1.0->instructor) (3.7.1)\n",
            "Requirement already satisfied: distro<2,>=1.7.0 in /usr/lib/python3/dist-packages (from openai<2.0.0,>=1.1.0->instructor) (1.7.0)\n",
            "Requirement already satisfied: httpx<1,>=0.23.0 in /usr/local/lib/python3.10/dist-packages (from openai<2.0.0,>=1.1.0->instructor) (0.27.0)\n",
            "Requirement already satisfied: sniffio in /usr/local/lib/python3.10/dist-packages (from openai<2.0.0,>=1.1.0->instructor) (1.3.1)\n",
            "Requirement already satisfied: tqdm>4 in /usr/local/lib/python3.10/dist-packages (from openai<2.0.0,>=1.1.0->instructor) (4.66.2)\n",
            "Requirement already satisfied: typing-extensions<5,>=4.7 in /usr/local/lib/python3.10/dist-packages (from openai<2.0.0,>=1.1.0->instructor) (4.11.0)\n",
            "Requirement already satisfied: annotated-types>=0.4.0 in /usr/local/lib/python3.10/dist-packages (from pydantic<3.0.0,>=2.7.0->instructor) (0.6.0)\n",
            "Requirement already satisfied: markdown-it-py>=2.2.0 in /usr/local/lib/python3.10/dist-packages (from rich<14.0.0,>=13.7.0->instructor) (3.0.0)\n",
            "Requirement already satisfied: pygments<3.0.0,>=2.13.0 in /usr/local/lib/python3.10/dist-packages (from rich<14.0.0,>=13.7.0->instructor) (2.16.1)\n",
            "Requirement already satisfied: click<9.0.0,>=7.1.1 in /usr/local/lib/python3.10/dist-packages (from typer<1.0.0,>=0.9.0->instructor) (8.1.7)\n",
            "Requirement already satisfied: idna>=2.8 in /usr/local/lib/python3.10/dist-packages (from anyio<5,>=3.5.0->openai<2.0.0,>=1.1.0->instructor) (3.7)\n",
            "Requirement already satisfied: exceptiongroup in /usr/local/lib/python3.10/dist-packages (from anyio<5,>=3.5.0->openai<2.0.0,>=1.1.0->instructor) (1.2.1)\n",
            "Requirement already satisfied: certifi in /usr/local/lib/python3.10/dist-packages (from httpx<1,>=0.23.0->openai<2.0.0,>=1.1.0->instructor) (2024.2.2)\n",
            "Requirement already satisfied: httpcore==1.* in /usr/local/lib/python3.10/dist-packages (from httpx<1,>=0.23.0->openai<2.0.0,>=1.1.0->instructor) (1.0.5)\n",
            "Requirement already satisfied: h11<0.15,>=0.13 in /usr/local/lib/python3.10/dist-packages (from httpcore==1.*->httpx<1,>=0.23.0->openai<2.0.0,>=1.1.0->instructor) (0.14.0)\n",
            "Requirement already satisfied: mdurl~=0.1 in /usr/local/lib/python3.10/dist-packages (from markdown-it-py>=2.2.0->rich<14.0.0,>=13.7.0->instructor) (0.1.2)\n"
          ]
        }
      ]
    },
    {
      "cell_type": "code",
      "source": [
        "from pydantic import BaseModel, Field\n",
        "from typing import List, Optional\n",
        "\n",
        "class Component(BaseModel):\n",
        "    Name: str = Field(..., description=\"The name of the component to be added. Only standard grasshopper components are allowed\")\n",
        "    Id: int = Field(..., description=\"A unique identifier for the component, starting from 1 and counting upwards\")\n",
        "    Value: Optional[str] = Field(None, alias='Value', description=\"The range of values for the component, if applicable. Only to be used for Panel, Slider, or Point components\")\n",
        "\n",
        "class InputConnectionDetail(BaseModel):\n",
        "    Id: int = Field(..., description=\"The unique identifier of the component the connection is related to\")\n",
        "    ParameterName: str = Field(..., description=\"The specific input parameter of the component that the connection affects\")\n",
        "\n",
        "class OutputConnectionDetail(BaseModel):\n",
        "    Id: int = Field(..., description=\"The unique identifier of the component the connection is related to\")\n",
        "    ParameterName: str = Field(..., description=\"The specific output parameter of the component that the connection affects\")\n",
        "\n",
        "class Connection(BaseModel):\n",
        "    From: OutputConnectionDetail = Field(..., description=\"The source component and parameter from which the connection originates\")\n",
        "    To: InputConnectionDetail = Field(..., description=\"The target component and parameter that the connection is directing to\")\n",
        "\n",
        "class GrasshopperScriptModel(BaseModel):\n",
        "    \"\"\"\n",
        "    A representation of a grasshopper script with all grasshopper components and the connections between them. Use sliders for variable inputs to the script\n",
        "    \"\"\"\n",
        "    ChainOfThought: str = Field(..., description=\"step by step rational explaining how the script acheives the aim, including the main components used\")\n",
        "    Advice: str = Field(..., description=\"A piece of advice or instruction related to using the grasshopper script\")\n",
        "    Additions: List[Component] = Field(..., description=\"A list of components to be added to the configuration\")\n",
        "    Connections: List[Connection] = Field(..., description=\"A list of connections defining relationships between components' parameters\")\n",
        "\n",
        "# Example usage:\n",
        "example_json = {\n",
        "    \"ChainOfThought\": \"Use the sphere component with a slider as input to set the radius\",\n",
        "    \"Advice\": \"Adjust the radius of the sphere using a number slider for desired size\",\n",
        "    \"Additions\": [\n",
        "        {\n",
        "            \"Name\": \"Sphere\",\n",
        "            \"Id\": 1\n",
        "        },\n",
        "        {\n",
        "            \"Name\": \"Number Slider\",\n",
        "            \"Id\": 2,\n",
        "            \"Value\": \"5..50..100\"\n",
        "        }\n",
        "    ],\n",
        "    \"Connections\": [\n",
        "        {\n",
        "            \"To\": {\n",
        "                \"Id\": 1,\n",
        "                \"ParameterName\": \"Radius\"\n",
        "            },\n",
        "            \"From\": {\n",
        "                \"Id\": 2,\n",
        "                \"ParameterName\": \"Number\"\n",
        "            }\n",
        "        }\n",
        "    ]\n",
        "}\n",
        "\n",
        "config = GrasshopperScriptModel(**example_json)\n",
        "# print(example_json)\n",
        "print(config.json())\n"
      ],
      "metadata": {
        "colab": {
          "base_uri": "https://localhost:8080/"
        },
        "id": "p5QQXh2pFjST",
        "outputId": "864a8c62-938c-473b-be7d-422695b3e842"
      },
      "execution_count": 196,
      "outputs": [
        {
          "output_type": "stream",
          "name": "stdout",
          "text": [
            "{\"ChainOfThought\":\"Use the sphere component with a slider as input to set the radius\",\"Advice\":\"Adjust the radius of the sphere using a number slider for desired size\",\"Additions\":[{\"Name\":\"Sphere\",\"Id\":1,\"Value\":null},{\"Name\":\"Number Slider\",\"Id\":2,\"Value\":\"5..50..100\"}],\"Connections\":[{\"From\":{\"Id\":2,\"ParameterName\":\"Number\"},\"To\":{\"Id\":1,\"ParameterName\":\"Radius\"}}]}\n"
          ]
        }
      ]
    },
    {
      "cell_type": "code",
      "source": [
        "#!pip install anthropic\n",
        "import instructor\n",
        "\n",
        "client = instructor.from_openai(wrap_openai(OpenAI(api_key=OPENAI_API_KEY)))"
      ],
      "metadata": {
        "id": "U60h0Nz7O1H7"
      },
      "execution_count": 197,
      "outputs": []
    },
    {
      "cell_type": "code",
      "source": [
        "# create the openai api call function\n",
        "def call_openai(prompt: str, system_prompt: str = \"\", model: str = \"gpt-3.5-turbo-1106\", temperature: float = 0):\n",
        "    completion = client.chat.completions.create(\n",
        "        model=model,\n",
        "        temperature=temperature,\n",
        "        messages=[\n",
        "            {\"role\": \"system\", \"content\": system_prompt},\n",
        "            {\"role\": \"user\", \"content\": prompt}\n",
        "        ],\n",
        "        response_model=GrasshopperScriptModel\n",
        "    )\n",
        "\n",
        "    return completion"
      ],
      "metadata": {
        "id": "0ke-FfdlPkWk"
      },
      "execution_count": 198,
      "outputs": []
    },
    {
      "cell_type": "code",
      "source": [
        "# DEFINE PROMPT HERE\n",
        "\n",
        "#prompt = \"Create a cylinder with a radius of 5 and a height of 10 and make sure to also create number sliders and connect them to the cylinder component\"\n",
        "prompt = QUESTION"
      ],
      "metadata": {
        "id": "BaTxyrcx2W4I"
      },
      "execution_count": 199,
      "outputs": []
    },
    {
      "cell_type": "code",
      "source": [
        "model = \"gpt-3.5-turbo-1106\"\n",
        "# model = \"gpt-4-1106-preview\t\"\n",
        "response = call_openai(prompt=prompt, system_prompt=system_prompt)"
      ],
      "metadata": {
        "id": "gfnp9bV_Pl0Z"
      },
      "execution_count": 200,
      "outputs": []
    },
    {
      "cell_type": "code",
      "source": [
        "print(response.json())"
      ],
      "metadata": {
        "id": "lL4g-30zQY63",
        "outputId": "9a74ddee-27f9-4034-f45a-55a9d1b39163",
        "colab": {
          "base_uri": "https://localhost:8080/"
        }
      },
      "execution_count": 201,
      "outputs": [
        {
          "output_type": "stream",
          "name": "stdout",
          "text": [
            "{\"ChainOfThought\":\"1. Create a number slider for the radius\\n2. Create a number slider for the height\\n3. Create a cylinder component\\n4. Connect the number sliders to the cylinder component\",\"Advice\":\"Make sure to set the range of the number sliders appropriately\",\"Additions\":[{\"Name\":\"Number Slider\",\"Id\":1,\"Value\":\"5\"},{\"Name\":\"Number Slider\",\"Id\":2,\"Value\":\"10\"},{\"Name\":\"Cylinder\",\"Id\":3,\"Value\":null}],\"Connections\":[{\"From\":{\"Id\":1,\"ParameterName\":\"Value\"},\"To\":{\"Id\":3,\"ParameterName\":\"Radius\"}},{\"From\":{\"Id\":2,\"ParameterName\":\"Value\"},\"To\":{\"Id\":3,\"ParameterName\":\"Height\"}}]}\n"
          ]
        }
      ]
    }
  ]
}