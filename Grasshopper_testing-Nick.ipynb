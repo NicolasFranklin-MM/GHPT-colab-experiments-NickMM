{
  "nbformat": 4,
  "nbformat_minor": 0,
  "metadata": {
    "colab": {
      "provenance": [],
      "collapsed_sections": [
        "KS2KaXUa6ULz"
      ],
      "include_colab_link": true
    },
    "kernelspec": {
      "name": "python3",
      "display_name": "Python 3"
    },
    "language_info": {
      "name": "python"
    }
  },
  "cells": [
    {
      "cell_type": "markdown",
      "metadata": {
        "id": "view-in-github",
        "colab_type": "text"
      },
      "source": [
        "<a href=\"https://colab.research.google.com/github/NicolasFranklin-MM/GHPT-colab-experiments-NickMM/blob/main/Grasshopper_testing-Nick.ipynb\" target=\"_parent\"><img src=\"https://colab.research.google.com/assets/colab-badge.svg\" alt=\"Open In Colab\"/></a>"
      ]
    },
    {
      "cell_type": "markdown",
      "source": [
        "## Install\n",
        "install openai and setup API key\n",
        "API key must be saved in Colab sectrets as OPENAI_API_KEY"
      ],
      "metadata": {
        "id": "KS2KaXUa6ULz"
      }
    },
    {
      "cell_type": "code",
      "execution_count": 1,
      "metadata": {
        "id": "jy5pEkKl0OyR",
        "colab": {
          "base_uri": "https://localhost:8080/"
        },
        "outputId": "f494b343-307b-4090-d251-26f0293110e9"
      },
      "outputs": [
        {
          "output_type": "stream",
          "name": "stdout",
          "text": [
            "Collecting openai\n",
            "  Downloading openai-1.25.0-py3-none-any.whl (312 kB)\n",
            "\u001b[2K     \u001b[90m━━━━━━━━━━━━━━━━━━━━━━━━━━━━━━━━━━━━━━━━\u001b[0m \u001b[32m312.9/312.9 kB\u001b[0m \u001b[31m4.1 MB/s\u001b[0m eta \u001b[36m0:00:00\u001b[0m\n",
            "\u001b[?25hRequirement already satisfied: anyio<5,>=3.5.0 in /usr/local/lib/python3.10/dist-packages (from openai) (3.7.1)\n",
            "Requirement already satisfied: distro<2,>=1.7.0 in /usr/lib/python3/dist-packages (from openai) (1.7.0)\n",
            "Collecting httpx<1,>=0.23.0 (from openai)\n",
            "  Downloading httpx-0.27.0-py3-none-any.whl (75 kB)\n",
            "\u001b[2K     \u001b[90m━━━━━━━━━━━━━━━━━━━━━━━━━━━━━━━━━━━━━━━━\u001b[0m \u001b[32m75.6/75.6 kB\u001b[0m \u001b[31m7.3 MB/s\u001b[0m eta \u001b[36m0:00:00\u001b[0m\n",
            "\u001b[?25hRequirement already satisfied: pydantic<3,>=1.9.0 in /usr/local/lib/python3.10/dist-packages (from openai) (2.7.1)\n",
            "Requirement already satisfied: sniffio in /usr/local/lib/python3.10/dist-packages (from openai) (1.3.1)\n",
            "Requirement already satisfied: tqdm>4 in /usr/local/lib/python3.10/dist-packages (from openai) (4.66.2)\n",
            "Requirement already satisfied: typing-extensions<5,>=4.7 in /usr/local/lib/python3.10/dist-packages (from openai) (4.11.0)\n",
            "Requirement already satisfied: idna>=2.8 in /usr/local/lib/python3.10/dist-packages (from anyio<5,>=3.5.0->openai) (3.7)\n",
            "Requirement already satisfied: exceptiongroup in /usr/local/lib/python3.10/dist-packages (from anyio<5,>=3.5.0->openai) (1.2.1)\n",
            "Requirement already satisfied: certifi in /usr/local/lib/python3.10/dist-packages (from httpx<1,>=0.23.0->openai) (2024.2.2)\n",
            "Collecting httpcore==1.* (from httpx<1,>=0.23.0->openai)\n",
            "  Downloading httpcore-1.0.5-py3-none-any.whl (77 kB)\n",
            "\u001b[2K     \u001b[90m━━━━━━━━━━━━━━━━━━━━━━━━━━━━━━━━━━━━━━━━\u001b[0m \u001b[32m77.9/77.9 kB\u001b[0m \u001b[31m1.0 MB/s\u001b[0m eta \u001b[36m0:00:00\u001b[0m\n",
            "\u001b[?25hCollecting h11<0.15,>=0.13 (from httpcore==1.*->httpx<1,>=0.23.0->openai)\n",
            "  Downloading h11-0.14.0-py3-none-any.whl (58 kB)\n",
            "\u001b[2K     \u001b[90m━━━━━━━━━━━━━━━━━━━━━━━━━━━━━━━━━━━━━━━━\u001b[0m \u001b[32m58.3/58.3 kB\u001b[0m \u001b[31m4.2 MB/s\u001b[0m eta \u001b[36m0:00:00\u001b[0m\n",
            "\u001b[?25hRequirement already satisfied: annotated-types>=0.4.0 in /usr/local/lib/python3.10/dist-packages (from pydantic<3,>=1.9.0->openai) (0.6.0)\n",
            "Requirement already satisfied: pydantic-core==2.18.2 in /usr/local/lib/python3.10/dist-packages (from pydantic<3,>=1.9.0->openai) (2.18.2)\n",
            "Installing collected packages: h11, httpcore, httpx, openai\n",
            "Successfully installed h11-0.14.0 httpcore-1.0.5 httpx-0.27.0 openai-1.25.0\n"
          ]
        }
      ],
      "source": [
        "!pip install openai"
      ]
    },
    {
      "cell_type": "code",
      "source": [
        "from openai import OpenAI"
      ],
      "metadata": {
        "id": "VB0Dx-k73Vt-"
      },
      "execution_count": 2,
      "outputs": []
    },
    {
      "cell_type": "code",
      "source": [
        "from google.colab import userdata\n",
        "OPENAI_API_KEY=userdata.get(\"OPENAI_API_KEY\")\n",
        "# OPENAI_API_KEY"
      ],
      "metadata": {
        "id": "LwtoXcFh6Oix"
      },
      "execution_count": 3,
      "outputs": []
    },
    {
      "cell_type": "markdown",
      "source": [
        "# OpenAI"
      ],
      "metadata": {
        "id": "lCORn5u76b3n"
      }
    },
    {
      "cell_type": "code",
      "source": [
        "client = OpenAI(api_key=OPENAI_API_KEY)\n",
        "model=\"gpt-3.5-turbo-1106\"\n",
        "temperature=0"
      ],
      "metadata": {
        "id": "_KuOYMzj61v3"
      },
      "execution_count": 4,
      "outputs": []
    },
    {
      "cell_type": "code",
      "source": [
        "# create the openai api call function\n",
        "def call_openai(prompt: str, system_prompt: str = \"\", model: str = \"gpt-3.5-turbo-1106\", temperature: float = 0):\n",
        "    completion = client.chat.completions.create(\n",
        "        model=model,\n",
        "        temperature=temperature,\n",
        "        messages=[\n",
        "            {\"role\": \"system\", \"content\": system_prompt},\n",
        "            {\"role\": \"user\", \"content\": prompt}\n",
        "        ],\n",
        "    )\n",
        "\n",
        "    return completion"
      ],
      "metadata": {
        "id": "EiYlQ5mIzBf3"
      },
      "execution_count": 5,
      "outputs": []
    },
    {
      "cell_type": "code",
      "source": [
        "model: str = \"gpt-3.5-turbo-1106\"\n",
        "# model: str = \"gpt-3.5-turbo-instruct\"\n",
        "temperature: float = 0\n",
        "\n",
        "prompt=\"say this is a test\"\n",
        "system_prompt=\"\"\n",
        "\n",
        "completion = call_openai(prompt=prompt, system_prompt=system_prompt, model=model, temperature=temperature)\n",
        "result = completion.choices[0].message.content\n",
        "print(result)"
      ],
      "metadata": {
        "colab": {
          "base_uri": "https://localhost:8080/"
        },
        "id": "B8HXy6lMA4dq",
        "outputId": "9be024da-2ca5-4844-e653-58bf357cf784"
      },
      "execution_count": 6,
      "outputs": [
        {
          "output_type": "stream",
          "name": "stdout",
          "text": [
            "This is a test.\n"
          ]
        }
      ]
    },
    {
      "cell_type": "markdown",
      "source": [
        "# GHPT"
      ],
      "metadata": {
        "id": "47XPmW1mPiTw"
      }
    },
    {
      "cell_type": "markdown",
      "source": [
        "## prompt template"
      ],
      "metadata": {
        "id": "Cb2mp36c73Yi"
      }
    },
    {
      "cell_type": "code",
      "source": [
        "system_prompt = \"\"\"\n",
        "You are a Grasshopper Expert and are going to help create Grasshopper Definitions.\n",
        "Keep the answers short and concise.\n",
        "Make sure you create and connect a component for every non-optional input\n",
        "If you're not sure about the answer, but think there's additional information that could help you, please ask for that information.\n",
        "\n",
        "Always use the given format, avoid any devitation.\n",
        "\"\"\""
      ],
      "metadata": {
        "id": "1cX7itePzi0h"
      },
      "execution_count": 7,
      "outputs": []
    },
    {
      "cell_type": "code",
      "source": [
        "prompt_template = r\"\"\"\n",
        "// Question : How do I add two numbers inside of Grasshopper?\n",
        "// Reasoning: To add two numbers we need to Add. There is an Addition component that performs this function. We need to create two numbers the user can edit, we can use the Number Slider for both numbers. And then we can Connections all of the components together\n",
        "// JSON:\n",
        "{\n",
        "\t\"Advice\": \"Make sure to set the number sliders to the correct value\",\n",
        "\t\"Additions\": [\n",
        "\t\t{\n",
        "\t\t\t\"Name\": \"Number Slider\",\n",
        "\t\t\t\"Id\": 1, // This number must be unique\n",
        "\t\t\t\"value\": \"0..25..100\" // This is optional\n",
        "\t\t},\n",
        "\t\t{\n",
        "\t\t\t\"Name\": \"Number Slider\",\n",
        "\t\t\t\"Id\": 2,\n",
        "\t\t\t\"value\": \"-50..25..100\" // This is optional\n",
        "\t\t},\n",
        "\t\t{\n",
        "\t\t\t\"Name\": \"Addition\",\n",
        "\t\t\t\"Id\": 3\n",
        "\t\t}\n",
        "\t],\n",
        "\t\"Connections\": [\n",
        "\t\t{\n",
        "\t\t\t\"To\": { // Addition\n",
        "\t\t\t\t\"Id\": 3,\n",
        "\t\t\t\t\"ParameterName\": \"A\"\n",
        "\t\t\t},\n",
        "\t\t\t\"From\": { // Number Slider,\n",
        "\t\t\t\t\"Id\": 1,\n",
        "\t\t\t\t\"ParameterName\": \"number\"\n",
        "\t\t\t}\n",
        "\t\t},\n",
        "\t\t{\n",
        "\t\t\t\"To\": { // Addition\n",
        "\t\t\t\t\"Id\": 3,\n",
        "\t\t\t\t\"ParameterName\": \"B\"\n",
        "\t\t\t},\n",
        "\t\t\t\"From\": { // Number Slider,\n",
        "\t\t\t\t\"Id\": 2,\n",
        "\t\t\t\t\"ParameterName\": \"number\"\n",
        "\t\t\t}\n",
        "\t\t}\n",
        "\t]\n",
        "}\n",
        "\n",
        "// Question: How do I create a cup shape in grasshopper\n",
        "// Reasoning: To create a cup shape in Grasshopper, we\"ll first create a circle using a \"Circle CNR\" component, which will act as the base of the cup. Then, we will use a \"Move\" component to move the base circle vertically to create the upper rim of the cup. To create the body of the cup, we\"ll loft these two circles using a \"Loft\" component.\n",
        "// JSON:\n",
        "{\n",
        "\t\"Advice\": \"Remember, to properly define the cup\\\"s dimensions using the number slider\",\n",
        "\t\"Additions\": [\n",
        "\t\t{\n",
        "\t\t\t\"Name\": \"Circle CNR\",\n",
        "\t\t\t\"Id\": 1\n",
        "\t\t},\n",
        "\t\t{\n",
        "\t\t\t\"Name\": \"Move\",\n",
        "\t\t\t\"Id\": 2\n",
        "\t\t},\n",
        "\t\t{\n",
        "\t\t\t\"Name\": \"Loft\",\n",
        "\t\t\t\"Id\": 3\n",
        "\t\t}\n",
        "\t],\n",
        "\t\"Connections\": [\n",
        "\t\t{\n",
        "\t\t\t\"To\": {\n",
        "\t\t\t\t\"Id\": 2,\n",
        "\t\t\t\t\"ParameterName\": \"Geometry\"\n",
        "\t\t\t},\n",
        "\t\t\t\"From\": {\n",
        "\t\t\t\t\"Id\": 1,\n",
        "\t\t\t\t\"ParameterName\": \"Circle\"\n",
        "\t\t\t}\n",
        "\t\t},\n",
        "\t\t{\n",
        "\t\t\t\"To\": {\n",
        "\t\t\t\t\"Id\": 3,\n",
        "\t\t\t\t\"ParameterName\": \"Curves\"\n",
        "\t\t\t},\n",
        "\t\t\t\"From\": {\n",
        "\t\t\t\t\"Id\": 1,\n",
        "\t\t\t\t\"ParameterName\": \"Circle\"\n",
        "\t\t\t}\n",
        "\t\t},\n",
        "\t\t{\n",
        "\t\t\t\"To\": {\n",
        "\t\t\t\t\"Id\": 3,\n",
        "\t\t\t\t\"ParameterName\": \"Curves\"\n",
        "\t\t\t},\n",
        "\t\t\t\"From\": {\n",
        "\t\t\t\t\"Id\": 2,\n",
        "\t\t\t\t\"ParameterName\": \"Geometry\"\n",
        "\t\t\t}\n",
        "\t\t}\n",
        "\t]\n",
        "}\n",
        "```\n",
        "\n",
        "// Question: How do I create a twisty skyscraper?\n",
        "// Reasoning: We can create the \"twist\" using the twist component, so lets extrude a rectangle and twist it!\n",
        "// JSON:\n",
        "{\n",
        "\t\"Advice\": \"Make sure to use reasonable inputs or the skyscraper will look weird\",\n",
        "\t\"Additions\": [\n",
        "\t\t{\n",
        "\t\t\t\"Name\": \"Rectangle\",\n",
        "\t\t\t\"Id\": 1\n",
        "\t\t},\n",
        "\t\t{\n",
        "\t\t\t\"Name\": \"Number Slider\",\n",
        "\t\t\t\"Id\": 2,\n",
        "\t\t\t\"Value\": \"0..50..100\"\n",
        "\t\t},\n",
        "\t\t{\n",
        "\t\t\t\"Name\": \"Unit Z\",\n",
        "\t\t\t\"Id\": 3\n",
        "\t\t},\n",
        "\t\t{\n",
        "\t\t\t\"Name\": \"Extrusion\",\n",
        "\t\t\t\"Id\": 4\n",
        "\t\t},\n",
        "\t\t{\n",
        "\t\t\t\"Name\": \"Number Slider\",\n",
        "\t\t\t\"Id\": 5,\n",
        "\t\t\t\"Value\": \"0..90..360\"\n",
        "\t\t},\n",
        "\t\t{\n",
        "\t\t\t\"Name\": \"Line\",\n",
        "\t\t\t\"Id\": 6\n",
        "\t\t},\n",
        "\t\t{\n",
        "\t\t\t\"Name\": \"Point\"\n",
        "\t\t\t\"Id\": 7,\n",
        "\t\t\t\"value\": \"{0,0,0}\"\n",
        "\t\t},\n",
        "\t\t{\n",
        "\t\t\t\"Name\": \"Point\"\n",
        "\t\t\t\"Id\": 8,\n",
        "\t\t\t\"value\": \"{0,0,250}\"\n",
        "\t\t},\n",
        "\t\t{\n",
        "\t\t\t\"Name\": \"Twist\",\n",
        "\t\t\t\"Id\": 9\n",
        "\t\t},\n",
        "\t\t{\n",
        "\t\t\t\"Name\": \"Solid Union\",\n",
        "\t\t\t\"Id\": 10\n",
        "\t\t},\n",
        "\t\t{\n",
        "\t\t\t\"Name\": \"Brep Join\",\n",
        "\t\t\t\"Id\": 11\n",
        "\t\t}\n",
        "\t],\n",
        "\t\"Connections\": [\n",
        "\t\t{\n",
        "\t\t\t\"To\": {\n",
        "\t\t\t\t\"Id\": 4,\n",
        "\t\t\t\t\"ParameterName\": \"Base\"\n",
        "\t\t\t},\n",
        "\t\t\t\"From\": {\n",
        "\t\t\t\t\"Id\": 1,\n",
        "\t\t\t\t\"ParameterName\": \"Rectangle\"\n",
        "\t\t\t}\n",
        "\t\t},\n",
        "\t\t{\n",
        "\t\t\t\"To\": {\n",
        "\t\t\t\t\"Id\": 3,\n",
        "\t\t\t\t\"ParameterName\": \"Factor\"\n",
        "\t\t\t},\n",
        "\t\t\t\"From\": {\n",
        "\t\t\t\t\"Id\": 2,\n",
        "\t\t\t\t\"ParameterName\": \"Number\"\n",
        "\t\t\t}\n",
        "\t\t},\n",
        "\t\t{\n",
        "\t\t\t\"To\": {\n",
        "\t\t\t\t\"Id\": 9,\n",
        "\t\t\t\t\"ParameterName\": \"Angle\"\n",
        "\t\t\t},\n",
        "\t\t\t\"From\": {\n",
        "\t\t\t\t\"Id\": 5,\n",
        "\t\t\t\t\"ParameterName\": \"Number\"\n",
        "\t\t\t}\n",
        "\t\t},\n",
        "\t\t{\n",
        "\t\t\t\"To\": {\n",
        "\t\t\t\t\"Id\": 4,\n",
        "\t\t\t\t\"ParameterName\": \"Direction\"\n",
        "\t\t\t},\n",
        "\t\t\t\"From\": {\n",
        "\t\t\t\t\"Id\": 3,\n",
        "\t\t\t\t\"ParameterName\": \"Unit vector\"\n",
        "\t\t\t}\n",
        "\t\t},\n",
        "\t\t{\n",
        "\t\t\t\"To\": {\n",
        "\t\t\t\t\"Id\": 9,\n",
        "\t\t\t\t\"ParameterName\": \"Geometry\"\n",
        "\t\t\t},\n",
        "\t\t\t\"From\": {\n",
        "\t\t\t\t\"Id\": 4,\n",
        "\t\t\t\t\"ParameterName\": \"Extrusion\"\n",
        "\t\t\t}\n",
        "\t\t},\n",
        "\t\t{\n",
        "\t\t\t\"To\": {\n",
        "\t\t\t\t\"Id\": 6,\n",
        "\t\t\t\t\"ParameterName\": \"Start Point\"\n",
        "\t\t\t},\n",
        "\t\t\t\"From\": {\n",
        "\t\t\t\t\"Id\": 7,\n",
        "\t\t\t\t\"ParameterName\": \"Point\"\n",
        "\t\t\t}\n",
        "\t\t},\n",
        "\t\t{\n",
        "\t\t\t\"To\": {\n",
        "\t\t\t\t\"Id\": 6,\n",
        "\t\t\t\t\"ParameterName\": \"End Point\"\n",
        "\t\t\t},\n",
        "\t\t\t\"From\": {\n",
        "\t\t\t\t\"Id\": 8,\n",
        "\t\t\t\t\"ParameterName\": \"Point\"\n",
        "\t\t\t}\n",
        "\t\t},\n",
        "\t\t{\n",
        "\t\t\t\"To\": {\n",
        "\t\t\t\t\"Id\": 10,\n",
        "\t\t\t\t\"ParameterName\": \"Breps\"\n",
        "\t\t\t},\n",
        "\t\t\t\"From\": {\n",
        "\t\t\t\t\"Id\": 9,\n",
        "\t\t\t\t\"ParameterName\": \"Geometry\"\n",
        "\t\t\t}\n",
        "\t\t},\n",
        "\t\t{\n",
        "\t\t\t\"To\": {\n",
        "\t\t\t\t\"Id\": 11,\n",
        "\t\t\t\t\"ParameterName\": \"Breps\"\n",
        "\t\t\t},\n",
        "\t\t\t\"From\": {\n",
        "\t\t\t\t\"Id\": 10,\n",
        "\t\t\t\t\"ParameterName\": \"Result\"\n",
        "\t\t\t}\n",
        "\t\t},\n",
        "\t\t{\n",
        "      \"To\": {\n",
        "          \"Id\": 9,\n",
        "          \"ParameterName\": \"Axis\"\n",
        "        },\n",
        "      \"From\": {\n",
        "          \"Id\": 6,\n",
        "          \"ParameterName\": \"Line\"\n",
        "      }\n",
        "\t\t}\n",
        "\t]\n",
        "}\n",
        "\n",
        "// Question: {QUESTION}\n",
        "// Reasoning:\n",
        "\"\"\""
      ],
      "metadata": {
        "id": "gKpcZiiP5rMX"
      },
      "execution_count": 8,
      "outputs": []
    },
    {
      "cell_type": "code",
      "source": [
        "prompt_template = prompt_template.replace(\"{\",\"{{\").replace(\"}\",\"}}\").replace(\"{{QUESTION}}\",\"{QUESTION}\")"
      ],
      "metadata": {
        "id": "QGjrfD7PA9PJ"
      },
      "execution_count": 9,
      "outputs": []
    },
    {
      "cell_type": "code",
      "source": [
        "prompt_template_error = \"\"\"The above json returned the error: {ERROR}\n",
        "re-evaluating the initial task and correcting for the json error the correct json should be\n",
        "\n",
        "// JSON:\n",
        "\"\"\""
      ],
      "metadata": {
        "id": "n2Vj_g4kC6da"
      },
      "execution_count": 10,
      "outputs": []
    },
    {
      "cell_type": "code",
      "source": [
        "prompt_template.format(QUESTION=\"create a sphere\")"
      ],
      "metadata": {
        "colab": {
          "base_uri": "https://localhost:8080/",
          "height": 105
        },
        "id": "BlPOMmXUyQh7",
        "outputId": "262695b6-0df2-4c58-ed0c-d39a7a254a1c"
      },
      "execution_count": 11,
      "outputs": [
        {
          "output_type": "execute_result",
          "data": {
            "text/plain": [
              "'\\n// Question : How do I add two numbers inside of Grasshopper?\\n// Reasoning: To add two numbers we need to Add. There is an Addition component that performs this function. We need to create two numbers the user can edit, we can use the Number Slider for both numbers. And then we can Connections all of the components together\\n// JSON:\\n{\\n\\t\"Advice\": \"Make sure to set the number sliders to the correct value\",\\n\\t\"Additions\": [\\n\\t\\t{\\n\\t\\t\\t\"Name\": \"Number Slider\",\\n\\t\\t\\t\"Id\": 1, // This number must be unique\\n\\t\\t\\t\"value\": \"0..25..100\" // This is optional\\n\\t\\t},\\n\\t\\t{\\n\\t\\t\\t\"Name\": \"Number Slider\",\\n\\t\\t\\t\"Id\": 2,\\n\\t\\t\\t\"value\": \"-50..25..100\" // This is optional\\n\\t\\t},\\n\\t\\t{\\n\\t\\t\\t\"Name\": \"Addition\",\\n\\t\\t\\t\"Id\": 3\\n\\t\\t}\\n\\t],\\n\\t\"Connections\": [\\n\\t\\t{\\n\\t\\t\\t\"To\": { // Addition\\n\\t\\t\\t\\t\"Id\": 3,\\n\\t\\t\\t\\t\"ParameterName\": \"A\"\\n\\t\\t\\t},\\n\\t\\t\\t\"From\": { // Number Slider,\\n\\t\\t\\t\\t\"Id\": 1,\\n\\t\\t\\t\\t\"ParameterName\": \"number\"\\n\\t\\t\\t}\\n\\t\\t},\\n\\t\\t{\\n\\t\\t\\t\"To\": { // Addition\\n\\t\\t\\t\\t\"Id\": 3,\\n\\t\\t\\t\\t\"ParameterName\": \"B\"\\n\\t\\t\\t},\\n\\t\\t\\t\"From\": { // Number Slider,\\n\\t\\t\\t\\t\"Id\": 2,\\n\\t\\t\\t\\t\"ParameterName\": \"number\"\\n\\t\\t\\t}\\n\\t\\t}\\n\\t]\\n}\\n\\n// Question: How do I create a cup shape in grasshopper\\n// Reasoning: To create a cup shape in Grasshopper, we\"ll first create a circle using a \"Circle CNR\" component, which will act as the base of the cup. Then, we will use a \"Move\" component to move the base circle vertically to create the upper rim of the cup. To create the body of the cup, we\"ll loft these two circles using a \"Loft\" component.\\n// JSON:\\n{\\n\\t\"Advice\": \"Remember, to properly define the cup\\\\\"s dimensions using the number slider\",\\n\\t\"Additions\": [\\n\\t\\t{\\n\\t\\t\\t\"Name\": \"Circle CNR\",\\n\\t\\t\\t\"Id\": 1\\n\\t\\t},\\n\\t\\t{\\n\\t\\t\\t\"Name\": \"Move\",\\n\\t\\t\\t\"Id\": 2\\n\\t\\t},\\n\\t\\t{\\n\\t\\t\\t\"Name\": \"Loft\",\\n\\t\\t\\t\"Id\": 3\\n\\t\\t}\\n\\t],\\n\\t\"Connections\": [\\n\\t\\t{\\n\\t\\t\\t\"To\": {\\n\\t\\t\\t\\t\"Id\": 2,\\n\\t\\t\\t\\t\"ParameterName\": \"Geometry\"\\n\\t\\t\\t},\\n\\t\\t\\t\"From\": {\\n\\t\\t\\t\\t\"Id\": 1,\\n\\t\\t\\t\\t\"ParameterName\": \"Circle\"\\n\\t\\t\\t}\\n\\t\\t},\\n\\t\\t{\\n\\t\\t\\t\"To\": {\\n\\t\\t\\t\\t\"Id\": 3,\\n\\t\\t\\t\\t\"ParameterName\": \"Curves\"\\n\\t\\t\\t},\\n\\t\\t\\t\"From\": {\\n\\t\\t\\t\\t\"Id\": 1,\\n\\t\\t\\t\\t\"ParameterName\": \"Circle\"\\n\\t\\t\\t}\\n\\t\\t},\\n\\t\\t{\\n\\t\\t\\t\"To\": {\\n\\t\\t\\t\\t\"Id\": 3,\\n\\t\\t\\t\\t\"ParameterName\": \"Curves\"\\n\\t\\t\\t},\\n\\t\\t\\t\"From\": {\\n\\t\\t\\t\\t\"Id\": 2,\\n\\t\\t\\t\\t\"ParameterName\": \"Geometry\"\\n\\t\\t\\t}\\n\\t\\t}\\n\\t]\\n}\\n```\\n\\n// Question: How do I create a twisty skyscraper?\\n// Reasoning: We can create the \"twist\" using the twist component, so lets extrude a rectangle and twist it!\\n// JSON:\\n{\\n\\t\"Advice\": \"Make sure to use reasonable inputs or the skyscraper will look weird\",\\n\\t\"Additions\": [\\n\\t\\t{\\n\\t\\t\\t\"Name\": \"Rectangle\",\\n\\t\\t\\t\"Id\": 1\\n\\t\\t},\\n\\t\\t{\\n\\t\\t\\t\"Name\": \"Number Slider\",\\n\\t\\t\\t\"Id\": 2,\\n\\t\\t\\t\"Value\": \"0..50..100\"\\n\\t\\t},\\n\\t\\t{\\n\\t\\t\\t\"Name\": \"Unit Z\",\\n\\t\\t\\t\"Id\": 3\\n\\t\\t},\\n\\t\\t{\\n\\t\\t\\t\"Name\": \"Extrusion\",\\n\\t\\t\\t\"Id\": 4\\n\\t\\t},\\n\\t\\t{\\n\\t\\t\\t\"Name\": \"Number Slider\",\\n\\t\\t\\t\"Id\": 5,\\n\\t\\t\\t\"Value\": \"0..90..360\"\\n\\t\\t},\\n\\t\\t{\\n\\t\\t\\t\"Name\": \"Line\",\\n\\t\\t\\t\"Id\": 6\\n\\t\\t},\\n\\t\\t{\\n\\t\\t\\t\"Name\": \"Point\"\\n\\t\\t\\t\"Id\": 7,\\n\\t\\t\\t\"value\": \"{0,0,0}\"\\n\\t\\t},\\n\\t\\t{\\n\\t\\t\\t\"Name\": \"Point\"\\n\\t\\t\\t\"Id\": 8,\\n\\t\\t\\t\"value\": \"{0,0,250}\"\\n\\t\\t},\\n\\t\\t{\\n\\t\\t\\t\"Name\": \"Twist\",\\n\\t\\t\\t\"Id\": 9\\n\\t\\t},\\n\\t\\t{\\n\\t\\t\\t\"Name\": \"Solid Union\",\\n\\t\\t\\t\"Id\": 10\\n\\t\\t},\\n\\t\\t{\\n\\t\\t\\t\"Name\": \"Brep Join\",\\n\\t\\t\\t\"Id\": 11\\n\\t\\t}\\n\\t],\\n\\t\"Connections\": [\\n\\t\\t{\\n\\t\\t\\t\"To\": {\\n\\t\\t\\t\\t\"Id\": 4,\\n\\t\\t\\t\\t\"ParameterName\": \"Base\"\\n\\t\\t\\t},\\n\\t\\t\\t\"From\": {\\n\\t\\t\\t\\t\"Id\": 1,\\n\\t\\t\\t\\t\"ParameterName\": \"Rectangle\"\\n\\t\\t\\t}\\n\\t\\t},\\n\\t\\t{\\n\\t\\t\\t\"To\": {\\n\\t\\t\\t\\t\"Id\": 3,\\n\\t\\t\\t\\t\"ParameterName\": \"Factor\"\\n\\t\\t\\t},\\n\\t\\t\\t\"From\": {\\n\\t\\t\\t\\t\"Id\": 2,\\n\\t\\t\\t\\t\"ParameterName\": \"Number\"\\n\\t\\t\\t}\\n\\t\\t},\\n\\t\\t{\\n\\t\\t\\t\"To\": {\\n\\t\\t\\t\\t\"Id\": 9,\\n\\t\\t\\t\\t\"ParameterName\": \"Angle\"\\n\\t\\t\\t},\\n\\t\\t\\t\"From\": {\\n\\t\\t\\t\\t\"Id\": 5,\\n\\t\\t\\t\\t\"ParameterName\": \"Number\"\\n\\t\\t\\t}\\n\\t\\t},\\n\\t\\t{\\n\\t\\t\\t\"To\": {\\n\\t\\t\\t\\t\"Id\": 4,\\n\\t\\t\\t\\t\"ParameterName\": \"Direction\"\\n\\t\\t\\t},\\n\\t\\t\\t\"From\": {\\n\\t\\t\\t\\t\"Id\": 3,\\n\\t\\t\\t\\t\"ParameterName\": \"Unit vector\"\\n\\t\\t\\t}\\n\\t\\t},\\n\\t\\t{\\n\\t\\t\\t\"To\": {\\n\\t\\t\\t\\t\"Id\": 9,\\n\\t\\t\\t\\t\"ParameterName\": \"Geometry\"\\n\\t\\t\\t},\\n\\t\\t\\t\"From\": {\\n\\t\\t\\t\\t\"Id\": 4,\\n\\t\\t\\t\\t\"ParameterName\": \"Extrusion\"\\n\\t\\t\\t}\\n\\t\\t},\\n\\t\\t{\\n\\t\\t\\t\"To\": {\\n\\t\\t\\t\\t\"Id\": 6,\\n\\t\\t\\t\\t\"ParameterName\": \"Start Point\"\\n\\t\\t\\t},\\n\\t\\t\\t\"From\": {\\n\\t\\t\\t\\t\"Id\": 7,\\n\\t\\t\\t\\t\"ParameterName\": \"Point\"\\n\\t\\t\\t}\\n\\t\\t},\\n\\t\\t{\\n\\t\\t\\t\"To\": {\\n\\t\\t\\t\\t\"Id\": 6,\\n\\t\\t\\t\\t\"ParameterName\": \"End Point\"\\n\\t\\t\\t},\\n\\t\\t\\t\"From\": {\\n\\t\\t\\t\\t\"Id\": 8,\\n\\t\\t\\t\\t\"ParameterName\": \"Point\"\\n\\t\\t\\t}\\n\\t\\t},\\n\\t\\t{\\n\\t\\t\\t\"To\": {\\n\\t\\t\\t\\t\"Id\": 10,\\n\\t\\t\\t\\t\"ParameterName\": \"Breps\"\\n\\t\\t\\t},\\n\\t\\t\\t\"From\": {\\n\\t\\t\\t\\t\"Id\": 9,\\n\\t\\t\\t\\t\"ParameterName\": \"Geometry\"\\n\\t\\t\\t}\\n\\t\\t},\\n\\t\\t{\\n\\t\\t\\t\"To\": {\\n\\t\\t\\t\\t\"Id\": 11,\\n\\t\\t\\t\\t\"ParameterName\": \"Breps\"\\n\\t\\t\\t},\\n\\t\\t\\t\"From\": {\\n\\t\\t\\t\\t\"Id\": 10,\\n\\t\\t\\t\\t\"ParameterName\": \"Result\"\\n\\t\\t\\t}\\n\\t\\t},\\n\\t\\t{\\n      \"To\": {\\n          \"Id\": 9,\\n          \"ParameterName\": \"Axis\"\\n        },\\n      \"From\": {\\n          \"Id\": 6,\\n          \"ParameterName\": \"Line\"\\n      }\\n\\t\\t}\\n\\t]\\n}\\n\\n// Question: create a sphere\\n// Reasoning:\\n'"
            ],
            "application/vnd.google.colaboratory.intrinsic+json": {
              "type": "string"
            }
          },
          "metadata": {},
          "execution_count": 11
        }
      ]
    },
    {
      "cell_type": "markdown",
      "source": [
        "## Baseline Call"
      ],
      "metadata": {
        "id": "fBGAjqv1780t"
      }
    },
    {
      "cell_type": "code",
      "source": [
        "# model: str = \"gpt-3.5-turbo-1106\"\n",
        "model: str = \"gpt-3.5-turbo\"\n",
        "temperature: float = 0\n",
        "\n",
        "prompt=prompt_template.format(QUESTION=\"sphere\")\n",
        "system_prompt=\"\"\n",
        "\n",
        "completion = call_openai(prompt=prompt, system_prompt=system_prompt, model=model, temperature=temperature)\n",
        "result = completion.choices[0].message\n",
        "print(result.content)"
      ],
      "metadata": {
        "colab": {
          "base_uri": "https://localhost:8080/"
        },
        "id": "wht7UJWg0jca",
        "outputId": "1c5a0d23-59e7-4252-c8ec-47ee8ad1b678"
      },
      "execution_count": 12,
      "outputs": [
        {
          "output_type": "stream",
          "name": "stdout",
          "text": [
            "To create a sphere in Grasshopper, you can use the \"Sphere\" component. Here is a JSON representation of how you can create a sphere:\n",
            "\n",
            "```json\n",
            "{\n",
            "\t\"Advice\": \"Adjust the radius of the sphere using a number slider for customization\",\n",
            "\t\"Additions\": [\n",
            "\t\t{\n",
            "\t\t\t\"Name\": \"Sphere\",\n",
            "\t\t\t\"Id\": 1\n",
            "\t\t},\n",
            "\t\t{\n",
            "\t\t\t\"Name\": \"Number Slider\",\n",
            "\t\t\t\"Id\": 2,\n",
            "\t\t\t\"Value\": \"5..50..100\"\n",
            "\t\t}\n",
            "\t],\n",
            "\t\"Connections\": [\n",
            "\t\t{\n",
            "\t\t\t\"To\": {\n",
            "\t\t\t\t\"Id\": 1,\n",
            "\t\t\t\t\"ParameterName\": \"Radius\"\n",
            "\t\t\t},\n",
            "\t\t\t\"From\": {\n",
            "\t\t\t\t\"Id\": 2,\n",
            "\t\t\t\t\"ParameterName\": \"Number\"\n",
            "\t\t\t}\n",
            "\t\t}\n",
            "\t]\n",
            "}\n",
            "```\n",
            "\n",
            "This JSON structure outlines the components needed to create a sphere in Grasshopper and how to connect them. Adjust the number slider to change the radius of the sphere as needed.\n"
          ]
        }
      ]
    },
    {
      "cell_type": "markdown",
      "source": [
        "# Instructor"
      ],
      "metadata": {
        "id": "XnxRNbOBFhE7"
      }
    },
    {
      "cell_type": "code",
      "source": [
        "!pip install instructor"
      ],
      "metadata": {
        "id": "NZrSSRF8O3sn",
        "outputId": "bfff8412-c689-4af3-c15d-d26a97f0af6d",
        "colab": {
          "base_uri": "https://localhost:8080/"
        }
      },
      "execution_count": 13,
      "outputs": [
        {
          "output_type": "stream",
          "name": "stdout",
          "text": [
            "Collecting instructor\n",
            "  Downloading instructor-1.2.4-py3-none-any.whl (44 kB)\n",
            "\u001b[?25l     \u001b[90m━━━━━━━━━━━━━━━━━━━━━━━━━━━━━━━━━━━━━━━━\u001b[0m \u001b[32m0.0/44.7 kB\u001b[0m \u001b[31m?\u001b[0m eta \u001b[36m-:--:--\u001b[0m\r\u001b[2K     \u001b[91m━━━━━━━━━━━━━━━━━━━━━━━━━━━━━━━━━━━━\u001b[0m\u001b[91m╸\u001b[0m\u001b[90m━━━\u001b[0m \u001b[32m41.0/44.7 kB\u001b[0m \u001b[31m1.2 MB/s\u001b[0m eta \u001b[36m0:00:01\u001b[0m\r\u001b[2K     \u001b[90m━━━━━━━━━━━━━━━━━━━━━━━━━━━━━━━━━━━━━━━━\u001b[0m \u001b[32m44.7/44.7 kB\u001b[0m \u001b[31m925.8 kB/s\u001b[0m eta \u001b[36m0:00:00\u001b[0m\n",
            "\u001b[?25hRequirement already satisfied: aiohttp<4.0.0,>=3.9.1 in /usr/local/lib/python3.10/dist-packages (from instructor) (3.9.5)\n",
            "Requirement already satisfied: docstring-parser<0.17,>=0.16 in /usr/local/lib/python3.10/dist-packages (from instructor) (0.16)\n",
            "Requirement already satisfied: openai<2.0.0,>=1.1.0 in /usr/local/lib/python3.10/dist-packages (from instructor) (1.25.0)\n",
            "Collecting pydantic==2.7.0 (from instructor)\n",
            "  Downloading pydantic-2.7.0-py3-none-any.whl (407 kB)\n",
            "\u001b[2K     \u001b[90m━━━━━━━━━━━━━━━━━━━━━━━━━━━━━━━━━━━━━━━━\u001b[0m \u001b[32m407.9/407.9 kB\u001b[0m \u001b[31m8.0 MB/s\u001b[0m eta \u001b[36m0:00:00\u001b[0m\n",
            "\u001b[?25hRequirement already satisfied: pydantic-core<3.0.0,>=2.18.0 in /usr/local/lib/python3.10/dist-packages (from instructor) (2.18.2)\n",
            "Requirement already satisfied: rich<14.0.0,>=13.7.0 in /usr/local/lib/python3.10/dist-packages (from instructor) (13.7.1)\n",
            "Requirement already satisfied: tenacity<9.0.0,>=8.2.3 in /usr/local/lib/python3.10/dist-packages (from instructor) (8.2.3)\n",
            "Requirement already satisfied: typer<1.0.0,>=0.9.0 in /usr/local/lib/python3.10/dist-packages (from instructor) (0.9.4)\n",
            "Requirement already satisfied: annotated-types>=0.4.0 in /usr/local/lib/python3.10/dist-packages (from pydantic==2.7.0->instructor) (0.6.0)\n",
            "Collecting pydantic-core<3.0.0,>=2.18.0 (from instructor)\n",
            "  Downloading pydantic_core-2.18.1-cp310-cp310-manylinux_2_17_x86_64.manylinux2014_x86_64.whl (2.1 MB)\n",
            "\u001b[2K     \u001b[90m━━━━━━━━━━━━━━━━━━━━━━━━━━━━━━━━━━━━━━━━\u001b[0m \u001b[32m2.1/2.1 MB\u001b[0m \u001b[31m39.7 MB/s\u001b[0m eta \u001b[36m0:00:00\u001b[0m\n",
            "\u001b[?25hRequirement already satisfied: typing-extensions>=4.6.1 in /usr/local/lib/python3.10/dist-packages (from pydantic==2.7.0->instructor) (4.11.0)\n",
            "Requirement already satisfied: aiosignal>=1.1.2 in /usr/local/lib/python3.10/dist-packages (from aiohttp<4.0.0,>=3.9.1->instructor) (1.3.1)\n",
            "Requirement already satisfied: attrs>=17.3.0 in /usr/local/lib/python3.10/dist-packages (from aiohttp<4.0.0,>=3.9.1->instructor) (23.2.0)\n",
            "Requirement already satisfied: frozenlist>=1.1.1 in /usr/local/lib/python3.10/dist-packages (from aiohttp<4.0.0,>=3.9.1->instructor) (1.4.1)\n",
            "Requirement already satisfied: multidict<7.0,>=4.5 in /usr/local/lib/python3.10/dist-packages (from aiohttp<4.0.0,>=3.9.1->instructor) (6.0.5)\n",
            "Requirement already satisfied: yarl<2.0,>=1.0 in /usr/local/lib/python3.10/dist-packages (from aiohttp<4.0.0,>=3.9.1->instructor) (1.9.4)\n",
            "Requirement already satisfied: async-timeout<5.0,>=4.0 in /usr/local/lib/python3.10/dist-packages (from aiohttp<4.0.0,>=3.9.1->instructor) (4.0.3)\n",
            "Requirement already satisfied: anyio<5,>=3.5.0 in /usr/local/lib/python3.10/dist-packages (from openai<2.0.0,>=1.1.0->instructor) (3.7.1)\n",
            "Requirement already satisfied: distro<2,>=1.7.0 in /usr/lib/python3/dist-packages (from openai<2.0.0,>=1.1.0->instructor) (1.7.0)\n",
            "Requirement already satisfied: httpx<1,>=0.23.0 in /usr/local/lib/python3.10/dist-packages (from openai<2.0.0,>=1.1.0->instructor) (0.27.0)\n",
            "Requirement already satisfied: sniffio in /usr/local/lib/python3.10/dist-packages (from openai<2.0.0,>=1.1.0->instructor) (1.3.1)\n",
            "Requirement already satisfied: tqdm>4 in /usr/local/lib/python3.10/dist-packages (from openai<2.0.0,>=1.1.0->instructor) (4.66.2)\n",
            "Requirement already satisfied: markdown-it-py>=2.2.0 in /usr/local/lib/python3.10/dist-packages (from rich<14.0.0,>=13.7.0->instructor) (3.0.0)\n",
            "Requirement already satisfied: pygments<3.0.0,>=2.13.0 in /usr/local/lib/python3.10/dist-packages (from rich<14.0.0,>=13.7.0->instructor) (2.16.1)\n",
            "Requirement already satisfied: click<9.0.0,>=7.1.1 in /usr/local/lib/python3.10/dist-packages (from typer<1.0.0,>=0.9.0->instructor) (8.1.7)\n",
            "Requirement already satisfied: idna>=2.8 in /usr/local/lib/python3.10/dist-packages (from anyio<5,>=3.5.0->openai<2.0.0,>=1.1.0->instructor) (3.7)\n",
            "Requirement already satisfied: exceptiongroup in /usr/local/lib/python3.10/dist-packages (from anyio<5,>=3.5.0->openai<2.0.0,>=1.1.0->instructor) (1.2.1)\n",
            "Requirement already satisfied: certifi in /usr/local/lib/python3.10/dist-packages (from httpx<1,>=0.23.0->openai<2.0.0,>=1.1.0->instructor) (2024.2.2)\n",
            "Requirement already satisfied: httpcore==1.* in /usr/local/lib/python3.10/dist-packages (from httpx<1,>=0.23.0->openai<2.0.0,>=1.1.0->instructor) (1.0.5)\n",
            "Requirement already satisfied: h11<0.15,>=0.13 in /usr/local/lib/python3.10/dist-packages (from httpcore==1.*->httpx<1,>=0.23.0->openai<2.0.0,>=1.1.0->instructor) (0.14.0)\n",
            "Requirement already satisfied: mdurl~=0.1 in /usr/local/lib/python3.10/dist-packages (from markdown-it-py>=2.2.0->rich<14.0.0,>=13.7.0->instructor) (0.1.2)\n",
            "Installing collected packages: pydantic-core, pydantic, instructor\n",
            "  Attempting uninstall: pydantic-core\n",
            "    Found existing installation: pydantic_core 2.18.2\n",
            "    Uninstalling pydantic_core-2.18.2:\n",
            "      Successfully uninstalled pydantic_core-2.18.2\n",
            "  Attempting uninstall: pydantic\n",
            "    Found existing installation: pydantic 2.7.1\n",
            "    Uninstalling pydantic-2.7.1:\n",
            "      Successfully uninstalled pydantic-2.7.1\n",
            "Successfully installed instructor-1.2.4 pydantic-2.7.0 pydantic-core-2.18.1\n"
          ]
        }
      ]
    },
    {
      "cell_type": "code",
      "source": [
        "from pydantic import BaseModel, Field\n",
        "from typing import List, Optional\n",
        "\n",
        "class Component(BaseModel):\n",
        "    Name: str = Field(..., description=\"The name of the component to be added. Only standard grasshopper components are allowed\")\n",
        "    Id: int = Field(..., description=\"A unique identifier for the component, starting from 1 and counting upwards\")\n",
        "    Value: Optional[str] = Field(None, alias='Value', description=\"The range of values for the component, if applicable. Only to be used for Panel, Slider, or Point components\")\n",
        "\n",
        "class InputConnectionDetail(BaseModel):\n",
        "    Id: int = Field(..., description=\"The unique identifier of the component the connection is related to\")\n",
        "    ParameterName: str = Field(..., description=\"The specific input parameter of the component that the connection affects\")\n",
        "\n",
        "class OutputConnectionDetail(BaseModel):\n",
        "    Id: int = Field(..., description=\"The unique identifier of the component the connection is related to\")\n",
        "    ParameterName: str = Field(..., description=\"The specific output parameter of the component that the connection affects\")\n",
        "\n",
        "class Connection(BaseModel):\n",
        "    From: OutputConnectionDetail = Field(..., description=\"The source component and parameter from which the connection originates\")\n",
        "    To: InputConnectionDetail = Field(..., description=\"The target component and parameter that the connection is directing to\")\n",
        "\n",
        "class GrasshopperScriptModel(BaseModel):\n",
        "    \"\"\"\n",
        "    A representation of a grasshopper script with all grasshopper components and the connections between them. Use sliders for variable inputs to the script\n",
        "    \"\"\"\n",
        "    ChainOfThought: str = Field(..., description=\"step by step rational explaining how the script acheives the aim, including the main components used\")\n",
        "    Advice: str = Field(..., description=\"A piece of advice or instruction related to using the grasshopper script\")\n",
        "    Additions: List[Component] = Field(..., description=\"A list of components to be added to the configuration\")\n",
        "    Connections: List[Connection] = Field(..., description=\"A list of connections defining relationships between components' parameters\")\n",
        "\n",
        "# Example usage:\n",
        "example_json = {\n",
        "    \"ChainOfThought\": \"Use the sphere component with a slider as input to set the radius\",\n",
        "    \"Advice\": \"Adjust the radius of the sphere using a number slider for desired size\",\n",
        "    \"Additions\": [\n",
        "        {\n",
        "            \"Name\": \"Sphere\",\n",
        "            \"Id\": 1\n",
        "        },\n",
        "        {\n",
        "            \"Name\": \"Number Slider\",\n",
        "            \"Id\": 2,\n",
        "            \"Value\": \"5..50..100\"\n",
        "        }\n",
        "    ],\n",
        "    \"Connections\": [\n",
        "        {\n",
        "            \"To\": {\n",
        "                \"Id\": 1,\n",
        "                \"ParameterName\": \"Radius\"\n",
        "            },\n",
        "            \"From\": {\n",
        "                \"Id\": 2,\n",
        "                \"ParameterName\": \"Number\"\n",
        "            }\n",
        "        }\n",
        "    ]\n",
        "}\n",
        "\n",
        "config = GrasshopperScriptModel(**example_json)\n",
        "# print(example_json)\n",
        "print(config.json())\n"
      ],
      "metadata": {
        "colab": {
          "base_uri": "https://localhost:8080/"
        },
        "id": "p5QQXh2pFjST",
        "outputId": "46725c19-fb75-4bcf-ab77-ad01759070e8"
      },
      "execution_count": 14,
      "outputs": [
        {
          "output_type": "stream",
          "name": "stdout",
          "text": [
            "{\"ChainOfThought\":\"Use the sphere component with a slider as input to set the radius\",\"Advice\":\"Adjust the radius of the sphere using a number slider for desired size\",\"Additions\":[{\"Name\":\"Sphere\",\"Id\":1,\"Value\":null},{\"Name\":\"Number Slider\",\"Id\":2,\"Value\":\"5..50..100\"}],\"Connections\":[{\"From\":{\"Id\":2,\"ParameterName\":\"Number\"},\"To\":{\"Id\":1,\"ParameterName\":\"Radius\"}}]}\n"
          ]
        }
      ]
    },
    {
      "cell_type": "code",
      "source": [
        "import instructor\n",
        "\n",
        "client = instructor.from_openai(OpenAI(api_key=OPENAI_API_KEY))"
      ],
      "metadata": {
        "id": "U60h0Nz7O1H7"
      },
      "execution_count": 15,
      "outputs": []
    },
    {
      "cell_type": "code",
      "source": [
        "# create the openai api call function\n",
        "def call_openai(prompt: str, system_prompt: str = \"\", model: str = \"gpt-3.5-turbo-1106\", temperature: float = 0):\n",
        "    completion = client.chat.completions.create(\n",
        "        model=model,\n",
        "        temperature=temperature,\n",
        "        messages=[\n",
        "            {\"role\": \"system\", \"content\": system_prompt},\n",
        "            {\"role\": \"user\", \"content\": prompt}\n",
        "        ],\n",
        "        response_model=GrasshopperScriptModel\n",
        "    )\n",
        "\n",
        "    return completion"
      ],
      "metadata": {
        "id": "0ke-FfdlPkWk"
      },
      "execution_count": 16,
      "outputs": []
    },
    {
      "cell_type": "code",
      "source": [
        "model = \"gpt-3.5-turbo-1106\"\n",
        "# model = \"gpt-4-1106-preview\t\"\n",
        "response = call_openai(prompt='sphere', system_prompt=system_prompt)"
      ],
      "metadata": {
        "id": "gfnp9bV_Pl0Z"
      },
      "execution_count": 17,
      "outputs": []
    },
    {
      "cell_type": "code",
      "source": [
        "print(response.json())"
      ],
      "metadata": {
        "colab": {
          "base_uri": "https://localhost:8080/"
        },
        "id": "lL4g-30zQY63",
        "outputId": "9a196f04-9a0f-4584-b771-e542e3698a17"
      },
      "execution_count": 18,
      "outputs": [
        {
          "output_type": "stream",
          "name": "stdout",
          "text": [
            "{\"ChainOfThought\":\"Create a sphere using the Sphere component and set its radius.\",\"Advice\":\"Make sure to specify the radius of the sphere to achieve the desired size.\",\"Additions\":[{\"Name\":\"Sphere\",\"Id\":1,\"Value\":null},{\"Name\":\"Slider\",\"Id\":2,\"Value\":\"0 to 10\"}],\"Connections\":[{\"From\":{\"Id\":2,\"ParameterName\":\"Value\"},\"To\":{\"Id\":1,\"ParameterName\":\"Radius\"}}]}\n"
          ]
        }
      ]
    }
  ]
}